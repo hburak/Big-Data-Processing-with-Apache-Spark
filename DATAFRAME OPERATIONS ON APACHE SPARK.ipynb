{
 "cells": [
  {
   "cell_type": "markdown",
   "source": [
    "## DATAFRAME OPERATIONS ON APACHE SPARK"
   ],
   "metadata": {
    "collapsed": false
   }
  },
  {
   "cell_type": "code",
   "execution_count": 1,
   "metadata": {},
   "outputs": [
    {
     "name": "stdout",
     "output_type": "stream",
     "text": [
      "Requirement already satisfied: findspark in c:\\users\\huseyinburakbolat\\anaconda3\\lib\\site-packages (1.4.2)\n"
     ]
    }
   ],
   "source": [
    "#IMPORT LIBRARIES\n",
    "!pip install findspark\n",
    "\n",
    "import findspark\n",
    "findspark.init()\n",
    "from pyspark.sql import SparkSession\n",
    "from pyspark.sql.types import *\n",
    "from pyspark.sql import functions as F\n",
    "\n",
    "spark = SparkSession \\\n",
    ".builder \\\n",
    ".master(\"local\") \\\n",
    ".appName(\"PySpark Dataframe Homework\") \\\n",
    ".getOrCreate()"
   ]
  },
  {
   "cell_type": "code",
   "execution_count": 5,
   "metadata": {},
   "outputs": [],
   "source": [
    "# INDICATE FILE DIRECTORIES\n",
    "data_path = \"D:/retail_db\"\n",
    "output_path = \"D:/pyspark_output_data\""
   ]
  },
  {
   "cell_type": "code",
   "execution_count": 10,
   "metadata": {},
   "outputs": [
    {
     "name": "stdout",
     "output_type": "stream",
     "text": [
      "total 9497\n",
      "-rw-r--r-- 1 Unknown+User Unknown+Group    1074 Jun 20  2022 categories.csv\n",
      "-rw-r--r-- 1 Unknown+User Unknown+Group  953847 Jun 20  2022 customers.csv\n",
      "-rw-r--r-- 1 Unknown+User Unknown+Group      88 Jun 20  2022 departments.csv\n",
      "-rw-r--r-- 1 Unknown+User Unknown+Group 5408988 Jun 20  2022 order_items.csv\n",
      "-rw-r--r-- 1 Unknown+User Unknown+Group 2999990 Jun 20  2022 orders.csv\n",
      "-rw-r--r-- 1 Unknown+User Unknown+Group  174240 Jun 20  2022 products.csv\n",
      "-rw-r--r-- 1 Unknown+User Unknown+Group  174196 Jun 20  2022 products2.csv\n"
     ]
    }
   ],
   "source": [
    "# LIST THE RETAIL_DB\n",
    "! ls -l D:/retail_db"
   ]
  },
  {
   "cell_type": "markdown",
   "source": [
    "### READ THE DATASETS WITH \"inferSchema\" OPTION , PRINT FIRST 3 OBSERVATIONS"
   ],
   "metadata": {
    "collapsed": false
   }
  },
  {
   "cell_type": "code",
   "execution_count": 11,
   "metadata": {},
   "outputs": [
    {
     "name": "stdout",
     "output_type": "stream",
     "text": [
      "+----------+--------------------+-------------------+\n",
      "|categoryId|categoryDepartmentId|       categoryName|\n",
      "+----------+--------------------+-------------------+\n",
      "|         1|                   2|           Football|\n",
      "|         2|                   2|             Soccer|\n",
      "|         3|                   2|Baseball & Softball|\n",
      "+----------+--------------------+-------------------+\n",
      "only showing top 3 rows\n",
      "\n"
     ]
    }
   ],
   "source": [
    "\n",
    "categories = spark.read.option(\"inferSchema\",True).csv(data_path+\"/categories.csv\", header=True)\n",
    "categories.show(3)"
   ]
  },
  {
   "cell_type": "code",
   "execution_count": 12,
   "metadata": {},
   "outputs": [
    {
     "name": "stdout",
     "output_type": "stream",
     "text": [
      "root\n",
      " |-- categoryId: integer (nullable = true)\n",
      " |-- categoryDepartmentId: integer (nullable = true)\n",
      " |-- categoryName: string (nullable = true)\n",
      "\n"
     ]
    }
   ],
   "source": [
    "categories.printSchema()"
   ]
  },
  {
   "cell_type": "code",
   "execution_count": 15,
   "metadata": {},
   "outputs": [
    {
     "name": "stdout",
     "output_type": "stream",
     "text": [
      "+---------+-----------------+--------------------+------------------+------------+--------------------+\n",
      "|productId|productCategoryId|         productName|productDescription|productPrice|        productImage|\n",
      "+---------+-----------------+--------------------+------------------+------------+--------------------+\n",
      "|        1|                2|Quest Q64 10 FT. ...|              null|       59.98|http://images.acm...|\n",
      "|        2|                2|Under Armour Men'...|              null|      129.99|http://images.acm...|\n",
      "|        3|                2|Under Armour Men'...|              null|       89.99|http://images.acm...|\n",
      "+---------+-----------------+--------------------+------------------+------------+--------------------+\n",
      "only showing top 3 rows\n",
      "\n"
     ]
    }
   ],
   "source": [
    "products = spark.read.option(\"inferSchema\",True).csv(data_path+\"/products.csv\", header=True)\n",
    "products.show(3)"
   ]
  },
  {
   "cell_type": "code",
   "execution_count": 16,
   "metadata": {},
   "outputs": [
    {
     "name": "stdout",
     "output_type": "stream",
     "text": [
      "root\n",
      " |-- productId: integer (nullable = true)\n",
      " |-- productCategoryId: integer (nullable = true)\n",
      " |-- productName: string (nullable = true)\n",
      " |-- productDescription: string (nullable = true)\n",
      " |-- productPrice: double (nullable = true)\n",
      " |-- productImage: string (nullable = true)\n",
      "\n"
     ]
    }
   ],
   "source": [
    "products.printSchema()"
   ]
  },
  {
   "cell_type": "code",
   "execution_count": 18,
   "metadata": {},
   "outputs": [
    {
     "name": "stdout",
     "output_type": "stream",
     "text": [
      "+-------+--------------------+---------------+---------------+\n",
      "|orderId|           orderDate|orderCustomerId|    orderStatus|\n",
      "+-------+--------------------+---------------+---------------+\n",
      "|      1|2013-07-25 00:00:...|          11599|         CLOSED|\n",
      "|      2|2013-07-25 00:00:...|            256|PENDING_PAYMENT|\n",
      "|      3|2013-07-25 00:00:...|          12111|       COMPLETE|\n",
      "+-------+--------------------+---------------+---------------+\n",
      "only showing top 3 rows\n",
      "\n"
     ]
    }
   ],
   "source": [
    "orders = spark.read.option(\"inferSchema\",True).csv(data_path+\"/orders.csv\", header=True)\n",
    "orders.show(3)"
   ]
  },
  {
   "cell_type": "code",
   "execution_count": 19,
   "metadata": {},
   "outputs": [
    {
     "name": "stdout",
     "output_type": "stream",
     "text": [
      "root\n",
      " |-- orderId: integer (nullable = true)\n",
      " |-- orderDate: string (nullable = true)\n",
      " |-- orderCustomerId: integer (nullable = true)\n",
      " |-- orderStatus: string (nullable = true)\n",
      "\n"
     ]
    }
   ],
   "source": [
    "orders.printSchema()"
   ]
  },
  {
   "cell_type": "code",
   "execution_count": 20,
   "metadata": {},
   "outputs": [
    {
     "name": "stdout",
     "output_type": "stream",
     "text": [
      "+-------------+----------------+------------------+-----------------+-----------------+---------------------+\n",
      "|orderItemName|orderItemOrderId|orderItemProductId|orderItemQuantity|orderItemSubTotal|orderItemProductPrice|\n",
      "+-------------+----------------+------------------+-----------------+-----------------+---------------------+\n",
      "|            1|               1|               957|                1|           299.98|               299.98|\n",
      "|            2|               2|              1073|                1|           199.99|               199.99|\n",
      "|            3|               2|               502|                5|            250.0|                 50.0|\n",
      "+-------------+----------------+------------------+-----------------+-----------------+---------------------+\n",
      "only showing top 3 rows\n",
      "\n"
     ]
    }
   ],
   "source": [
    "order_items = spark.read.option(\"inferSchema\",True).csv(data_path+\"/order_items.csv\", header=True)\n",
    "order_items.show(3)"
   ]
  },
  {
   "cell_type": "code",
   "execution_count": 21,
   "metadata": {},
   "outputs": [
    {
     "name": "stdout",
     "output_type": "stream",
     "text": [
      "root\n",
      " |-- orderItemName: integer (nullable = true)\n",
      " |-- orderItemOrderId: integer (nullable = true)\n",
      " |-- orderItemProductId: integer (nullable = true)\n",
      " |-- orderItemQuantity: integer (nullable = true)\n",
      " |-- orderItemSubTotal: double (nullable = true)\n",
      " |-- orderItemProductPrice: double (nullable = true)\n",
      "\n"
     ]
    }
   ],
   "source": [
    "order_items.printSchema()"
   ]
  },
  {
   "cell_type": "code",
   "execution_count": 22,
   "metadata": {},
   "outputs": [
    {
     "data": {
      "text/plain": "57431"
     },
     "execution_count": 22,
     "metadata": {},
     "output_type": "execute_result"
    }
   ],
   "source": [
    "## FIND OUT HOW MANY DISTINCT \"orderItemOrderId\" ON order_items table\n",
    "order_items.select(\"orderItemOrderId\").distinct().count()"
   ]
  },
  {
   "cell_type": "code",
   "execution_count": 23,
   "metadata": {},
   "outputs": [
    {
     "data": {
      "text/plain": "68883"
     },
     "execution_count": 23,
     "metadata": {},
     "output_type": "execute_result"
    }
   ],
   "source": [
    "### FIND OUT HOW MANY ROWS ON order_items AND orders TABLES\n",
    "orders.count()"
   ]
  },
  {
   "cell_type": "code",
   "execution_count": 24,
   "metadata": {},
   "outputs": [
    {
     "data": {
      "text/plain": "172198"
     },
     "execution_count": 24,
     "metadata": {},
     "output_type": "execute_result"
    }
   ],
   "source": [
    "order_items.count()"
   ]
  },
  {
   "cell_type": "markdown",
   "metadata": {},
   "source": [
    "##  MOST CANCELLED PRODUCT GROUPS REGARDING TOTAL SALES ON DESCENDING ORDER\n",
    "##  WRITE TO LOCAL STORAGE AS PARQUET  FILE FORMAT"
   ]
  },
  {
   "cell_type": "code",
   "execution_count": 25,
   "metadata": {},
   "outputs": [],
   "source": [
    "# join the tables cat_products and products by selecting \"productId\",\"productName\", \"categoryName\"\n",
    "cat_products = products.join(categories, products['productCategoryId'] == categories['categoryId']) \\\n",
    ".select(\"productId\",\"productName\", \"categoryName\")"
   ]
  },
  {
   "cell_type": "code",
   "execution_count": 26,
   "metadata": {
    "scrolled": true
   },
   "outputs": [
    {
     "data": {
      "text/plain": "   productId                                    productName categoryName\n0          1  Quest Q64 10 FT. x 10 FT. Slant Leg Instant U       Soccer\n1          2  Under Armour Men's Highlight MC Football Clea       Soccer\n2          3  Under Armour Men's Renegade D Mid Football Cl       Soccer\n3          4  Under Armour Men's Renegade D Mid Football Cl       Soccer\n4          5  Riddell Youth Revolution Speed Custom Footbal       Soccer",
      "text/html": "<div>\n<style scoped>\n    .dataframe tbody tr th:only-of-type {\n        vertical-align: middle;\n    }\n\n    .dataframe tbody tr th {\n        vertical-align: top;\n    }\n\n    .dataframe thead th {\n        text-align: right;\n    }\n</style>\n<table border=\"1\" class=\"dataframe\">\n  <thead>\n    <tr style=\"text-align: right;\">\n      <th></th>\n      <th>productId</th>\n      <th>productName</th>\n      <th>categoryName</th>\n    </tr>\n  </thead>\n  <tbody>\n    <tr>\n      <th>0</th>\n      <td>1</td>\n      <td>Quest Q64 10 FT. x 10 FT. Slant Leg Instant U</td>\n      <td>Soccer</td>\n    </tr>\n    <tr>\n      <th>1</th>\n      <td>2</td>\n      <td>Under Armour Men's Highlight MC Football Clea</td>\n      <td>Soccer</td>\n    </tr>\n    <tr>\n      <th>2</th>\n      <td>3</td>\n      <td>Under Armour Men's Renegade D Mid Football Cl</td>\n      <td>Soccer</td>\n    </tr>\n    <tr>\n      <th>3</th>\n      <td>4</td>\n      <td>Under Armour Men's Renegade D Mid Football Cl</td>\n      <td>Soccer</td>\n    </tr>\n    <tr>\n      <th>4</th>\n      <td>5</td>\n      <td>Riddell Youth Revolution Speed Custom Footbal</td>\n      <td>Soccer</td>\n    </tr>\n  </tbody>\n</table>\n</div>"
     },
     "execution_count": 26,
     "metadata": {},
     "output_type": "execute_result"
    }
   ],
   "source": [
    "cat_products.limit(5).toPandas()"
   ]
  },
  {
   "cell_type": "code",
   "execution_count": 27,
   "metadata": {},
   "outputs": [
    {
     "data": {
      "text/plain": "   orderId  orderItemProductId  orderItemSubTotal      orderStatus\n0        1                 957             299.98           CLOSED\n1        2                1073             199.99  PENDING_PAYMENT\n2        2                 502             250.00  PENDING_PAYMENT\n3        2                 403             129.99  PENDING_PAYMENT\n4        4                 897              49.98           CLOSED",
      "text/html": "<div>\n<style scoped>\n    .dataframe tbody tr th:only-of-type {\n        vertical-align: middle;\n    }\n\n    .dataframe tbody tr th {\n        vertical-align: top;\n    }\n\n    .dataframe thead th {\n        text-align: right;\n    }\n</style>\n<table border=\"1\" class=\"dataframe\">\n  <thead>\n    <tr style=\"text-align: right;\">\n      <th></th>\n      <th>orderId</th>\n      <th>orderItemProductId</th>\n      <th>orderItemSubTotal</th>\n      <th>orderStatus</th>\n    </tr>\n  </thead>\n  <tbody>\n    <tr>\n      <th>0</th>\n      <td>1</td>\n      <td>957</td>\n      <td>299.98</td>\n      <td>CLOSED</td>\n    </tr>\n    <tr>\n      <th>1</th>\n      <td>2</td>\n      <td>1073</td>\n      <td>199.99</td>\n      <td>PENDING_PAYMENT</td>\n    </tr>\n    <tr>\n      <th>2</th>\n      <td>2</td>\n      <td>502</td>\n      <td>250.00</td>\n      <td>PENDING_PAYMENT</td>\n    </tr>\n    <tr>\n      <th>3</th>\n      <td>2</td>\n      <td>403</td>\n      <td>129.99</td>\n      <td>PENDING_PAYMENT</td>\n    </tr>\n    <tr>\n      <th>4</th>\n      <td>4</td>\n      <td>897</td>\n      <td>49.98</td>\n      <td>CLOSED</td>\n    </tr>\n  </tbody>\n</table>\n</div>"
     },
     "execution_count": 27,
     "metadata": {},
     "output_type": "execute_result"
    }
   ],
   "source": [
    "# join orders AND order_items\n",
    "orders_and_items = order_items.join(orders, order_items['orderItemOrderId'] == orders['orderId']) \\\n",
    ".select(\"orderId\",\"orderItemProductId\",\"orderItemSubTotal\",\"orderStatus\")\n",
    "orders_and_items.limit(5).toPandas().head()"
   ]
  },
  {
   "cell_type": "code",
   "execution_count": 28,
   "metadata": {},
   "outputs": [
    {
     "data": {
      "text/plain": "   orderId  orderItemProductId  orderItemSubTotal      orderStatus  productId  \\\n0    57760                 858             199.99  PENDING_PAYMENT        858   \n1    57847                 858             199.99         COMPLETE        858   \n2    58071                 858             199.99          PENDING        858   \n3    58170                 858             199.99          PENDING        858   \n4    58585                 858             199.99         CANCELED        858   \n\n               productName      categoryName  \n0  GolfBuddy VT3 GPS Watch  Kids' Golf Clubs  \n1  GolfBuddy VT3 GPS Watch  Kids' Golf Clubs  \n2  GolfBuddy VT3 GPS Watch  Kids' Golf Clubs  \n3  GolfBuddy VT3 GPS Watch  Kids' Golf Clubs  \n4  GolfBuddy VT3 GPS Watch  Kids' Golf Clubs  ",
      "text/html": "<div>\n<style scoped>\n    .dataframe tbody tr th:only-of-type {\n        vertical-align: middle;\n    }\n\n    .dataframe tbody tr th {\n        vertical-align: top;\n    }\n\n    .dataframe thead th {\n        text-align: right;\n    }\n</style>\n<table border=\"1\" class=\"dataframe\">\n  <thead>\n    <tr style=\"text-align: right;\">\n      <th></th>\n      <th>orderId</th>\n      <th>orderItemProductId</th>\n      <th>orderItemSubTotal</th>\n      <th>orderStatus</th>\n      <th>productId</th>\n      <th>productName</th>\n      <th>categoryName</th>\n    </tr>\n  </thead>\n  <tbody>\n    <tr>\n      <th>0</th>\n      <td>57760</td>\n      <td>858</td>\n      <td>199.99</td>\n      <td>PENDING_PAYMENT</td>\n      <td>858</td>\n      <td>GolfBuddy VT3 GPS Watch</td>\n      <td>Kids' Golf Clubs</td>\n    </tr>\n    <tr>\n      <th>1</th>\n      <td>57847</td>\n      <td>858</td>\n      <td>199.99</td>\n      <td>COMPLETE</td>\n      <td>858</td>\n      <td>GolfBuddy VT3 GPS Watch</td>\n      <td>Kids' Golf Clubs</td>\n    </tr>\n    <tr>\n      <th>2</th>\n      <td>58071</td>\n      <td>858</td>\n      <td>199.99</td>\n      <td>PENDING</td>\n      <td>858</td>\n      <td>GolfBuddy VT3 GPS Watch</td>\n      <td>Kids' Golf Clubs</td>\n    </tr>\n    <tr>\n      <th>3</th>\n      <td>58170</td>\n      <td>858</td>\n      <td>199.99</td>\n      <td>PENDING</td>\n      <td>858</td>\n      <td>GolfBuddy VT3 GPS Watch</td>\n      <td>Kids' Golf Clubs</td>\n    </tr>\n    <tr>\n      <th>4</th>\n      <td>58585</td>\n      <td>858</td>\n      <td>199.99</td>\n      <td>CANCELED</td>\n      <td>858</td>\n      <td>GolfBuddy VT3 GPS Watch</td>\n      <td>Kids' Golf Clubs</td>\n    </tr>\n  </tbody>\n</table>\n</div>"
     },
     "execution_count": 28,
     "metadata": {},
     "output_type": "execute_result"
    }
   ],
   "source": [
    "# Join recently created new tables above , and save as final_table\n",
    "# Print first 5 as Pandas Dataframe\n",
    "final_table = orders_and_items.join(cat_products, orders_and_items['orderItemProductId'] == cat_products['productId'])\n",
    "final_table.limit(5).toPandas()"
   ]
  },
  {
   "cell_type": "code",
   "execution_count": 29,
   "metadata": {},
   "outputs": [
    {
     "data": {
      "text/plain": "                                     productName  Totalprice\n0      Field & Stream Sportsman 16 Gun Fire Safe   134393.28\n1               Perfect Fitness Perfect Rip Deck    85785.70\n2              Nike Men's Free 5.0+ Running Shoe    80691.93\n3  Diamondback Women's Serene Classic Comfort Bi    80094.66\n4                    Pelican Sunstream 100 Kayak    66196.69\n5           Nike Men's Dri-FIT Victory Golf Polo    65750.00\n6        Nike Men's CJ Elite 2 TD Football Cleat    60705.33\n7               O'Brien Men's Neoprene Life Vest    58126.74\n8  Under Armour Girls' Toddler Spine Surge Runni    26153.46\n9       LIJA Women's Eyelet Sleeveless Golf Polo     2145.00",
      "text/html": "<div>\n<style scoped>\n    .dataframe tbody tr th:only-of-type {\n        vertical-align: middle;\n    }\n\n    .dataframe tbody tr th {\n        vertical-align: top;\n    }\n\n    .dataframe thead th {\n        text-align: right;\n    }\n</style>\n<table border=\"1\" class=\"dataframe\">\n  <thead>\n    <tr style=\"text-align: right;\">\n      <th></th>\n      <th>productName</th>\n      <th>Totalprice</th>\n    </tr>\n  </thead>\n  <tbody>\n    <tr>\n      <th>0</th>\n      <td>Field &amp; Stream Sportsman 16 Gun Fire Safe</td>\n      <td>134393.28</td>\n    </tr>\n    <tr>\n      <th>1</th>\n      <td>Perfect Fitness Perfect Rip Deck</td>\n      <td>85785.70</td>\n    </tr>\n    <tr>\n      <th>2</th>\n      <td>Nike Men's Free 5.0+ Running Shoe</td>\n      <td>80691.93</td>\n    </tr>\n    <tr>\n      <th>3</th>\n      <td>Diamondback Women's Serene Classic Comfort Bi</td>\n      <td>80094.66</td>\n    </tr>\n    <tr>\n      <th>4</th>\n      <td>Pelican Sunstream 100 Kayak</td>\n      <td>66196.69</td>\n    </tr>\n    <tr>\n      <th>5</th>\n      <td>Nike Men's Dri-FIT Victory Golf Polo</td>\n      <td>65750.00</td>\n    </tr>\n    <tr>\n      <th>6</th>\n      <td>Nike Men's CJ Elite 2 TD Football Cleat</td>\n      <td>60705.33</td>\n    </tr>\n    <tr>\n      <th>7</th>\n      <td>O'Brien Men's Neoprene Life Vest</td>\n      <td>58126.74</td>\n    </tr>\n    <tr>\n      <th>8</th>\n      <td>Under Armour Girls' Toddler Spine Surge Runni</td>\n      <td>26153.46</td>\n    </tr>\n    <tr>\n      <th>9</th>\n      <td>LIJA Women's Eyelet Sleeveless Golf Polo</td>\n      <td>2145.00</td>\n    </tr>\n  </tbody>\n</table>\n</div>"
     },
     "execution_count": 29,
     "metadata": {},
     "output_type": "execute_result"
    }
   ],
   "source": [
    "# FILTER THE FINAL_TABLE BASED ON CANCELLED ITEMS AND GROUP BY PRODUCT NAME THEN SUM IT BY SUBTOTALS\n",
    "# ORDER BY DESCENDING ORDER REGARDING TOTAL PRICE\n",
    "most_cancelled_products = final_table.filter(\"orderStatus == 'CANCELED'\") \\\n",
    ".groupBy(\"productName\").agg(F.sum(\"orderItemSubTotal\").alias(\"Totalprice\")) \\\n",
    ".orderBy(F.desc(\"TotalPrice\"))\n",
    "most_cancelled_products.limit(10).toPandas()"
   ]
  },
  {
   "cell_type": "code",
   "execution_count": null,
   "metadata": {
    "pycharm": {
     "is_executing": true
    }
   },
   "outputs": [],
   "source": [
    "# WRITE TO LOCAL STORAGE AS PARQUET  FILE FORMAT\n",
    "most_cancelled_products.coalesce(1) \\\n",
    ".write.mode(\"overwrite\").parquet(output_path+\"/most_cancelled_products_parquet\")"
   ]
  },
  {
   "cell_type": "code",
   "execution_count": 31,
   "metadata": {},
   "outputs": [
    {
     "data": {
      "text/plain": "                                     productName  Totalprice\n0      Field & Stream Sportsman 16 Gun Fire Safe   134393.28\n1               Perfect Fitness Perfect Rip Deck    85785.70\n2              Nike Men's Free 5.0+ Running Shoe    80691.93\n3  Diamondback Women's Serene Classic Comfort Bi    80094.66\n4                    Pelican Sunstream 100 Kayak    66196.69",
      "text/html": "<div>\n<style scoped>\n    .dataframe tbody tr th:only-of-type {\n        vertical-align: middle;\n    }\n\n    .dataframe tbody tr th {\n        vertical-align: top;\n    }\n\n    .dataframe thead th {\n        text-align: right;\n    }\n</style>\n<table border=\"1\" class=\"dataframe\">\n  <thead>\n    <tr style=\"text-align: right;\">\n      <th></th>\n      <th>productName</th>\n      <th>Totalprice</th>\n    </tr>\n  </thead>\n  <tbody>\n    <tr>\n      <th>0</th>\n      <td>Field &amp; Stream Sportsman 16 Gun Fire Safe</td>\n      <td>134393.28</td>\n    </tr>\n    <tr>\n      <th>1</th>\n      <td>Perfect Fitness Perfect Rip Deck</td>\n      <td>85785.70</td>\n    </tr>\n    <tr>\n      <th>2</th>\n      <td>Nike Men's Free 5.0+ Running Shoe</td>\n      <td>80691.93</td>\n    </tr>\n    <tr>\n      <th>3</th>\n      <td>Diamondback Women's Serene Classic Comfort Bi</td>\n      <td>80094.66</td>\n    </tr>\n    <tr>\n      <th>4</th>\n      <td>Pelican Sunstream 100 Kayak</td>\n      <td>66196.69</td>\n    </tr>\n  </tbody>\n</table>\n</div>"
     },
     "execution_count": 31,
     "metadata": {},
     "output_type": "execute_result"
    }
   ],
   "source": [
    "most_cancelled_products.limit(5).toPandas()"
   ]
  },
  {
   "cell_type": "markdown",
   "metadata": {},
   "source": [
    "## FIND OUT TOP 5 HIGHEST SALES WITH DATES"
   ]
  },
  {
   "cell_type": "code",
   "execution_count": 32,
   "metadata": {},
   "outputs": [
    {
     "data": {
      "text/plain": "   orderId  orderItemProductId  orderItemSubTotal      orderStatus  \\\n0        1                 957             299.98           CLOSED   \n1        2                1073             199.99  PENDING_PAYMENT   \n2        2                 502             250.00  PENDING_PAYMENT   \n3        2                 403             129.99  PENDING_PAYMENT   \n4        4                 897              49.98           CLOSED   \n\n               orderDate  \n0  2013-07-25 00:00:00.0  \n1  2013-07-25 00:00:00.0  \n2  2013-07-25 00:00:00.0  \n3  2013-07-25 00:00:00.0  \n4  2013-07-25 00:00:00.0  ",
      "text/html": "<div>\n<style scoped>\n    .dataframe tbody tr th:only-of-type {\n        vertical-align: middle;\n    }\n\n    .dataframe tbody tr th {\n        vertical-align: top;\n    }\n\n    .dataframe thead th {\n        text-align: right;\n    }\n</style>\n<table border=\"1\" class=\"dataframe\">\n  <thead>\n    <tr style=\"text-align: right;\">\n      <th></th>\n      <th>orderId</th>\n      <th>orderItemProductId</th>\n      <th>orderItemSubTotal</th>\n      <th>orderStatus</th>\n      <th>orderDate</th>\n    </tr>\n  </thead>\n  <tbody>\n    <tr>\n      <th>0</th>\n      <td>1</td>\n      <td>957</td>\n      <td>299.98</td>\n      <td>CLOSED</td>\n      <td>2013-07-25 00:00:00.0</td>\n    </tr>\n    <tr>\n      <th>1</th>\n      <td>2</td>\n      <td>1073</td>\n      <td>199.99</td>\n      <td>PENDING_PAYMENT</td>\n      <td>2013-07-25 00:00:00.0</td>\n    </tr>\n    <tr>\n      <th>2</th>\n      <td>2</td>\n      <td>502</td>\n      <td>250.00</td>\n      <td>PENDING_PAYMENT</td>\n      <td>2013-07-25 00:00:00.0</td>\n    </tr>\n    <tr>\n      <th>3</th>\n      <td>2</td>\n      <td>403</td>\n      <td>129.99</td>\n      <td>PENDING_PAYMENT</td>\n      <td>2013-07-25 00:00:00.0</td>\n    </tr>\n    <tr>\n      <th>4</th>\n      <td>4</td>\n      <td>897</td>\n      <td>49.98</td>\n      <td>CLOSED</td>\n      <td>2013-07-25 00:00:00.0</td>\n    </tr>\n  </tbody>\n</table>\n</div>"
     },
     "execution_count": 32,
     "metadata": {},
     "output_type": "execute_result"
    }
   ],
   "source": [
    "orders_and_items_date = order_items.join(orders, order_items['orderItemOrderId'] == orders['orderId']) \\\n",
    ".select(\"orderId\",\"orderItemProductId\",\"orderItemSubTotal\",\"orderStatus\",\"orderDate\")\n",
    "orders_and_items_date.limit(5).toPandas().head()"
   ]
  },
  {
   "cell_type": "code",
   "execution_count": 33,
   "metadata": {},
   "outputs": [
    {
     "name": "stdout",
     "output_type": "stream",
     "text": [
      "root\n",
      " |-- orderId: integer (nullable = true)\n",
      " |-- orderItemProductId: integer (nullable = true)\n",
      " |-- orderItemSubTotal: double (nullable = true)\n",
      " |-- orderStatus: string (nullable = true)\n",
      " |-- orderDate: string (nullable = true)\n",
      "\n"
     ]
    }
   ],
   "source": [
    "orders_and_items_date.printSchema()"
   ]
  },
  {
   "cell_type": "code",
   "execution_count": 34,
   "metadata": {},
   "outputs": [],
   "source": [
    "# FIND OUT WHICH MONTHS AND YEARS ARE INDICATED IN DISTINCT COLUMNS\n",
    "df_year_and_month = orders_and_items_date.withColumn(\"orderDate\",\n",
    "                                F.to_timestamp(F.col(\"orderDate\"), \"yyyy-MM-dd HH:mm:ss.S\")) \\\n",
    ".withColumn(\"Year\", F.year(F.col(\"orderDate\"))) \\\n",
    ".withColumn(\"Month\", F.month(F.col(\"orderDate\")))\n"
   ]
  },
  {
   "cell_type": "code",
   "execution_count": 35,
   "metadata": {},
   "outputs": [
    {
     "data": {
      "text/plain": "   orderId  orderItemProductId  orderItemSubTotal      orderStatus  orderDate  \\\n0        1                 957             299.98           CLOSED 2013-07-25   \n1        2                1073             199.99  PENDING_PAYMENT 2013-07-25   \n2        2                 502             250.00  PENDING_PAYMENT 2013-07-25   \n3        2                 403             129.99  PENDING_PAYMENT 2013-07-25   \n4        4                 897              49.98           CLOSED 2013-07-25   \n\n   Year  Month  \n0  2013      7  \n1  2013      7  \n2  2013      7  \n3  2013      7  \n4  2013      7  ",
      "text/html": "<div>\n<style scoped>\n    .dataframe tbody tr th:only-of-type {\n        vertical-align: middle;\n    }\n\n    .dataframe tbody tr th {\n        vertical-align: top;\n    }\n\n    .dataframe thead th {\n        text-align: right;\n    }\n</style>\n<table border=\"1\" class=\"dataframe\">\n  <thead>\n    <tr style=\"text-align: right;\">\n      <th></th>\n      <th>orderId</th>\n      <th>orderItemProductId</th>\n      <th>orderItemSubTotal</th>\n      <th>orderStatus</th>\n      <th>orderDate</th>\n      <th>Year</th>\n      <th>Month</th>\n    </tr>\n  </thead>\n  <tbody>\n    <tr>\n      <th>0</th>\n      <td>1</td>\n      <td>957</td>\n      <td>299.98</td>\n      <td>CLOSED</td>\n      <td>2013-07-25</td>\n      <td>2013</td>\n      <td>7</td>\n    </tr>\n    <tr>\n      <th>1</th>\n      <td>2</td>\n      <td>1073</td>\n      <td>199.99</td>\n      <td>PENDING_PAYMENT</td>\n      <td>2013-07-25</td>\n      <td>2013</td>\n      <td>7</td>\n    </tr>\n    <tr>\n      <th>2</th>\n      <td>2</td>\n      <td>502</td>\n      <td>250.00</td>\n      <td>PENDING_PAYMENT</td>\n      <td>2013-07-25</td>\n      <td>2013</td>\n      <td>7</td>\n    </tr>\n    <tr>\n      <th>3</th>\n      <td>2</td>\n      <td>403</td>\n      <td>129.99</td>\n      <td>PENDING_PAYMENT</td>\n      <td>2013-07-25</td>\n      <td>2013</td>\n      <td>7</td>\n    </tr>\n    <tr>\n      <th>4</th>\n      <td>4</td>\n      <td>897</td>\n      <td>49.98</td>\n      <td>CLOSED</td>\n      <td>2013-07-25</td>\n      <td>2013</td>\n      <td>7</td>\n    </tr>\n  </tbody>\n</table>\n</div>"
     },
     "execution_count": 35,
     "metadata": {},
     "output_type": "execute_result"
    }
   ],
   "source": [
    "df_year_and_month.limit(5).toPandas()"
   ]
  },
  {
   "cell_type": "code",
   "execution_count": 36,
   "metadata": {},
   "outputs": [
    {
     "name": "stdout",
     "output_type": "stream",
     "text": [
      "root\n",
      " |-- orderId: integer (nullable = true)\n",
      " |-- orderItemProductId: integer (nullable = true)\n",
      " |-- orderItemSubTotal: double (nullable = true)\n",
      " |-- orderStatus: string (nullable = true)\n",
      " |-- orderDate: timestamp (nullable = true)\n",
      " |-- Year: integer (nullable = true)\n",
      " |-- Month: integer (nullable = true)\n",
      "\n"
     ]
    }
   ],
   "source": [
    "df_year_and_month.printSchema()"
   ]
  },
  {
   "cell_type": "markdown",
   "source": [
    "### FIND OUT HIGHEST SALES WITH SUMS INDICATING YEAR AND MONTNS"
   ],
   "metadata": {
    "collapsed": false
   }
  },
  {
   "cell_type": "code",
   "execution_count": 37,
   "metadata": {},
   "outputs": [
    {
     "data": {
      "text/plain": "   Year  Month  Sum_SubTotal\n0  2013     11    3105843.27\n1  2014      1    2870834.18\n2  2013     12    2869997.88\n3  2013      9    2866553.33\n4  2014      3    2805006.32\n5  2013      8    2769236.03\n6  2014      4    2758912.47\n7  2014      2    2712838.58\n8  2014      5    2695699.48\n9  2014      6    2657013.04",
      "text/html": "<div>\n<style scoped>\n    .dataframe tbody tr th:only-of-type {\n        vertical-align: middle;\n    }\n\n    .dataframe tbody tr th {\n        vertical-align: top;\n    }\n\n    .dataframe thead th {\n        text-align: right;\n    }\n</style>\n<table border=\"1\" class=\"dataframe\">\n  <thead>\n    <tr style=\"text-align: right;\">\n      <th></th>\n      <th>Year</th>\n      <th>Month</th>\n      <th>Sum_SubTotal</th>\n    </tr>\n  </thead>\n  <tbody>\n    <tr>\n      <th>0</th>\n      <td>2013</td>\n      <td>11</td>\n      <td>3105843.27</td>\n    </tr>\n    <tr>\n      <th>1</th>\n      <td>2014</td>\n      <td>1</td>\n      <td>2870834.18</td>\n    </tr>\n    <tr>\n      <th>2</th>\n      <td>2013</td>\n      <td>12</td>\n      <td>2869997.88</td>\n    </tr>\n    <tr>\n      <th>3</th>\n      <td>2013</td>\n      <td>9</td>\n      <td>2866553.33</td>\n    </tr>\n    <tr>\n      <th>4</th>\n      <td>2014</td>\n      <td>3</td>\n      <td>2805006.32</td>\n    </tr>\n    <tr>\n      <th>5</th>\n      <td>2013</td>\n      <td>8</td>\n      <td>2769236.03</td>\n    </tr>\n    <tr>\n      <th>6</th>\n      <td>2014</td>\n      <td>4</td>\n      <td>2758912.47</td>\n    </tr>\n    <tr>\n      <th>7</th>\n      <td>2014</td>\n      <td>2</td>\n      <td>2712838.58</td>\n    </tr>\n    <tr>\n      <th>8</th>\n      <td>2014</td>\n      <td>5</td>\n      <td>2695699.48</td>\n    </tr>\n    <tr>\n      <th>9</th>\n      <td>2014</td>\n      <td>6</td>\n      <td>2657013.04</td>\n    </tr>\n  </tbody>\n</table>\n</div>"
     },
     "execution_count": 37,
     "metadata": {},
     "output_type": "execute_result"
    }
   ],
   "source": [
    "\n",
    "df_year_and_month.filter(\"orderStatus not in ('CANCELED')\") \\\n",
    ".groupBy('Year','Month').agg(F.sum(\"orderItemSubTotal\").alias(\"Sum_SubTotal\")) \\\n",
    ".orderBy(F.desc(\"Sum_SubTotal\")) \\\n",
    ".limit(10).toPandas()"
   ]
  },
  {
   "cell_type": "code",
   "execution_count": 38,
   "metadata": {},
   "outputs": [],
   "source": [
    "spark.stop()"
   ]
  },
  {
   "cell_type": "code",
   "execution_count": null,
   "outputs": [],
   "source": [],
   "metadata": {
    "collapsed": false
   }
  }
 ],
 "metadata": {
  "kernelspec": {
   "name": "python3",
   "language": "python",
   "display_name": "Python 3 (ipykernel)"
  },
  "language_info": {
   "codemirror_mode": {
    "name": "ipython",
    "version": 3
   },
   "file_extension": ".py",
   "mimetype": "text/x-python",
   "name": "python",
   "nbconvert_exporter": "python",
   "pygments_lexer": "ipython3",
   "version": "3.8.12"
  }
 },
 "nbformat": 4,
 "nbformat_minor": 4
}
