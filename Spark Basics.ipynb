{
 "cells": [
  {
   "cell_type": "markdown",
   "source": [
    "## BASIC SPARK IMPLEMENTATIONS"
   ],
   "metadata": {
    "collapsed": false
   }
  },
  {
   "cell_type": "code",
   "execution_count": 73,
   "metadata": {
    "collapsed": true
   },
   "outputs": [
    {
     "name": "stdout",
     "output_type": "stream",
     "text": [
      "Requirement already satisfied: findspark in c:\\users\\huseyinburakbolat\\anaconda3\\lib\\site-packages (1.4.2)\n"
     ]
    },
    {
     "data": {
      "text/plain": "<SparkContext master=local appName=pyspark-shell>",
      "text/html": "\n        <div>\n            <p><b>SparkContext</b></p>\n\n            <p><a href=\"http://DESKTOP-3TKHB53.home:4040\">Spark UI</a></p>\n\n            <dl>\n              <dt>Version</dt>\n                <dd><code>v3.1.2</code></dd>\n              <dt>Master</dt>\n                <dd><code>local</code></dd>\n              <dt>AppName</dt>\n                <dd><code>pyspark-shell</code></dd>\n            </dl>\n        </div>\n        "
     },
     "execution_count": 73,
     "metadata": {},
     "output_type": "execute_result"
    }
   ],
   "source": [
    "!pip install findspark\n",
    "\n",
    "import findspark\n",
    "findspark.init()\n",
    "from pyspark.sql import SparkSession\n",
    "from pyspark.conf import SparkConf\n",
    "from pyspark import SparkContext\n",
    "\n",
    "from pyspark.sql import SparkSession, functions as F\n",
    "from pyspark.sql.types import *\n",
    "from pyspark.sql.functions import expr\n",
    "\n",
    "sc = SparkContext('local')\n",
    "spark = SparkSession(sc)\n",
    "sc"
   ]
  },
  {
   "cell_type": "code",
   "execution_count": 74,
   "outputs": [
    {
     "data": {
      "text/plain": "                              master_id order_channel platform_type  \\\n0  b3ace094-a17f-11e9-a2fc-000d3a38a36f       Offline       Offline   \n1  c57d7c4c-a950-11e9-a2fc-000d3a38a36f       Offline   OmniChannel   \n2  602897a6-cdac-11ea-b31f-000d3a38a36f       Offline       Offline   \n3  388e4c4e-af86-11e9-a2fc-000d3a38a36f        Mobile        Online   \n4  80664354-adf0-11eb-8f64-000d3a299ebf       Desktop        Online   \n\n  last_order_channel    first_order_date     last_order_date  \\\n0            Offline 2019-02-23 12:59:17 2019-02-23 12:59:17   \n1            Offline 2019-12-01 16:48:09 2019-12-01 16:48:09   \n2            Offline 2020-07-24 15:49:47 2020-07-24 15:49:47   \n3             Mobile 2018-12-31 07:22:07 2018-12-31 07:22:07   \n4            Desktop 2021-05-05 21:07:02 2021-05-05 22:39:36   \n\n  last_order_date_online last_order_date_offline  order_num_total_ever_online  \\\n0                    NaT     2019-02-23 12:59:17                          NaN   \n1                    NaT     2019-12-01 16:48:09                          NaN   \n2                    NaT     2020-07-24 15:49:47                          NaN   \n3    2018-12-31 07:22:07                     NaT                          1.0   \n4    2021-05-05 22:39:36                     NaT                          2.0   \n\n   order_num_total_ever_offline  customer_value_total_ever_offline  \\\n0                           1.0                             212.98   \n1                           1.0                             199.98   \n2                           1.0                             140.49   \n3                           NaN                               0.00   \n4                           NaN                               0.00   \n\n   customer_value_total_ever_online interested_in_categories_12  \\\n0                              0.00                        None   \n1                              0.00                        None   \n2                              0.00                     [ERKEK]   \n3                            174.99                        None   \n4                            283.95                          []   \n\n  online_product_group_amount_top_name_12 offline_product_group_name_12  \\\n0                                    None                          None   \n1                                    None                          None   \n2                                    None                         ERKEK   \n3                                    None                          None   \n4                                    None                          None   \n\n  last_order_date_new store_type  \n0          2019-02-23          A  \n1          2019-12-01          A  \n2          2020-07-24          A  \n3          2018-12-31          A  \n4          2021-05-05          A  ",
      "text/html": "<div>\n<style scoped>\n    .dataframe tbody tr th:only-of-type {\n        vertical-align: middle;\n    }\n\n    .dataframe tbody tr th {\n        vertical-align: top;\n    }\n\n    .dataframe thead th {\n        text-align: right;\n    }\n</style>\n<table border=\"1\" class=\"dataframe\">\n  <thead>\n    <tr style=\"text-align: right;\">\n      <th></th>\n      <th>master_id</th>\n      <th>order_channel</th>\n      <th>platform_type</th>\n      <th>last_order_channel</th>\n      <th>first_order_date</th>\n      <th>last_order_date</th>\n      <th>last_order_date_online</th>\n      <th>last_order_date_offline</th>\n      <th>order_num_total_ever_online</th>\n      <th>order_num_total_ever_offline</th>\n      <th>customer_value_total_ever_offline</th>\n      <th>customer_value_total_ever_online</th>\n      <th>interested_in_categories_12</th>\n      <th>online_product_group_amount_top_name_12</th>\n      <th>offline_product_group_name_12</th>\n      <th>last_order_date_new</th>\n      <th>store_type</th>\n    </tr>\n  </thead>\n  <tbody>\n    <tr>\n      <th>0</th>\n      <td>b3ace094-a17f-11e9-a2fc-000d3a38a36f</td>\n      <td>Offline</td>\n      <td>Offline</td>\n      <td>Offline</td>\n      <td>2019-02-23 12:59:17</td>\n      <td>2019-02-23 12:59:17</td>\n      <td>NaT</td>\n      <td>2019-02-23 12:59:17</td>\n      <td>NaN</td>\n      <td>1.0</td>\n      <td>212.98</td>\n      <td>0.00</td>\n      <td>None</td>\n      <td>None</td>\n      <td>None</td>\n      <td>2019-02-23</td>\n      <td>A</td>\n    </tr>\n    <tr>\n      <th>1</th>\n      <td>c57d7c4c-a950-11e9-a2fc-000d3a38a36f</td>\n      <td>Offline</td>\n      <td>OmniChannel</td>\n      <td>Offline</td>\n      <td>2019-12-01 16:48:09</td>\n      <td>2019-12-01 16:48:09</td>\n      <td>NaT</td>\n      <td>2019-12-01 16:48:09</td>\n      <td>NaN</td>\n      <td>1.0</td>\n      <td>199.98</td>\n      <td>0.00</td>\n      <td>None</td>\n      <td>None</td>\n      <td>None</td>\n      <td>2019-12-01</td>\n      <td>A</td>\n    </tr>\n    <tr>\n      <th>2</th>\n      <td>602897a6-cdac-11ea-b31f-000d3a38a36f</td>\n      <td>Offline</td>\n      <td>Offline</td>\n      <td>Offline</td>\n      <td>2020-07-24 15:49:47</td>\n      <td>2020-07-24 15:49:47</td>\n      <td>NaT</td>\n      <td>2020-07-24 15:49:47</td>\n      <td>NaN</td>\n      <td>1.0</td>\n      <td>140.49</td>\n      <td>0.00</td>\n      <td>[ERKEK]</td>\n      <td>None</td>\n      <td>ERKEK</td>\n      <td>2020-07-24</td>\n      <td>A</td>\n    </tr>\n    <tr>\n      <th>3</th>\n      <td>388e4c4e-af86-11e9-a2fc-000d3a38a36f</td>\n      <td>Mobile</td>\n      <td>Online</td>\n      <td>Mobile</td>\n      <td>2018-12-31 07:22:07</td>\n      <td>2018-12-31 07:22:07</td>\n      <td>2018-12-31 07:22:07</td>\n      <td>NaT</td>\n      <td>1.0</td>\n      <td>NaN</td>\n      <td>0.00</td>\n      <td>174.99</td>\n      <td>None</td>\n      <td>None</td>\n      <td>None</td>\n      <td>2018-12-31</td>\n      <td>A</td>\n    </tr>\n    <tr>\n      <th>4</th>\n      <td>80664354-adf0-11eb-8f64-000d3a299ebf</td>\n      <td>Desktop</td>\n      <td>Online</td>\n      <td>Desktop</td>\n      <td>2021-05-05 21:07:02</td>\n      <td>2021-05-05 22:39:36</td>\n      <td>2021-05-05 22:39:36</td>\n      <td>NaT</td>\n      <td>2.0</td>\n      <td>NaN</td>\n      <td>0.00</td>\n      <td>283.95</td>\n      <td>[]</td>\n      <td>None</td>\n      <td>None</td>\n      <td>2021-05-05</td>\n      <td>A</td>\n    </tr>\n  </tbody>\n</table>\n</div>"
     },
     "execution_count": 74,
     "metadata": {},
     "output_type": "execute_result"
    }
   ],
   "source": [
    "df = (spark.read.format('csv')\n",
    "      .option('header', True)\n",
    "      .option('delimiter', '|')\n",
    "      .option('inferSchema', True)\n",
    "      .load('D:/flo100k.csv')\n",
    "      )\n",
    "df.limit(5).toPandas()"
   ],
   "metadata": {
    "collapsed": false
   }
  },
  {
   "cell_type": "code",
   "execution_count": 75,
   "outputs": [
    {
     "name": "stdout",
     "output_type": "stream",
     "text": [
      "+--------------------+-------------+-------------+------------------+-------------------+-------------------+----------------------+-----------------------+---------------------------+----------------------------+---------------------------------+--------------------------------+---------------------------+---------------------------------------+-----------------------------+-------------------+----------+\n",
      "|           master_id|order_channel|platform_type|last_order_channel|   first_order_date|    last_order_date|last_order_date_online|last_order_date_offline|order_num_total_ever_online|order_num_total_ever_offline|customer_value_total_ever_offline|customer_value_total_ever_online|interested_in_categories_12|online_product_group_amount_top_name_12|offline_product_group_name_12|last_order_date_new|store_type|\n",
      "+--------------------+-------------+-------------+------------------+-------------------+-------------------+----------------------+-----------------------+---------------------------+----------------------------+---------------------------------+--------------------------------+---------------------------+---------------------------------------+-----------------------------+-------------------+----------+\n",
      "|b3ace094-a17f-11e...|      Offline|      Offline|           Offline|2019-02-23 12:59:17|2019-02-23 12:59:17|                  null|    2019-02-23 12:59:17|                       null|                         1.0|                           212.98|                             0.0|                       null|                                   null|                         null|         2019-02-23|         A|\n",
      "|c57d7c4c-a950-11e...|      Offline|  OmniChannel|           Offline|2019-12-01 16:48:09|2019-12-01 16:48:09|                  null|    2019-12-01 16:48:09|                       null|                         1.0|                           199.98|                             0.0|                       null|                                   null|                         null|         2019-12-01|         A|\n",
      "+--------------------+-------------+-------------+------------------+-------------------+-------------------+----------------------+-----------------------+---------------------------+----------------------------+---------------------------------+--------------------------------+---------------------------+---------------------------------------+-----------------------------+-------------------+----------+\n",
      "only showing top 2 rows\n",
      "\n"
     ]
    }
   ],
   "source": [
    "df.show(2)"
   ],
   "metadata": {
    "collapsed": false
   }
  },
  {
   "cell_type": "code",
   "execution_count": 76,
   "outputs": [
    {
     "data": {
      "text/plain": "  store_type\n0          A\n1          A",
      "text/html": "<div>\n<style scoped>\n    .dataframe tbody tr th:only-of-type {\n        vertical-align: middle;\n    }\n\n    .dataframe tbody tr th {\n        vertical-align: top;\n    }\n\n    .dataframe thead th {\n        text-align: right;\n    }\n</style>\n<table border=\"1\" class=\"dataframe\">\n  <thead>\n    <tr style=\"text-align: right;\">\n      <th></th>\n      <th>store_type</th>\n    </tr>\n  </thead>\n  <tbody>\n    <tr>\n      <th>0</th>\n      <td>A</td>\n    </tr>\n    <tr>\n      <th>1</th>\n      <td>A</td>\n    </tr>\n  </tbody>\n</table>\n</div>"
     },
     "execution_count": 76,
     "metadata": {},
     "output_type": "execute_result"
    }
   ],
   "source": [
    "# FEATURE SELECTION\n",
    "df.select (\"store_type\").limit(2).toPandas()"
   ],
   "metadata": {
    "collapsed": false
   }
  },
  {
   "cell_type": "code",
   "execution_count": 77,
   "outputs": [
    {
     "name": "stdout",
     "output_type": "stream",
     "text": [
      "root\n",
      " |-- master_id: string (nullable = true)\n",
      " |-- order_channel: string (nullable = true)\n",
      " |-- platform_type: string (nullable = true)\n",
      " |-- last_order_channel: string (nullable = true)\n",
      " |-- first_order_date: timestamp (nullable = true)\n",
      " |-- last_order_date: timestamp (nullable = true)\n",
      " |-- last_order_date_online: timestamp (nullable = true)\n",
      " |-- last_order_date_offline: timestamp (nullable = true)\n",
      " |-- order_num_total_ever_online: double (nullable = true)\n",
      " |-- order_num_total_ever_offline: double (nullable = true)\n",
      " |-- customer_value_total_ever_offline: double (nullable = true)\n",
      " |-- customer_value_total_ever_online: double (nullable = true)\n",
      " |-- interested_in_categories_12: string (nullable = true)\n",
      " |-- online_product_group_amount_top_name_12: string (nullable = true)\n",
      " |-- offline_product_group_name_12: string (nullable = true)\n",
      " |-- last_order_date_new: string (nullable = true)\n",
      " |-- store_type: string (nullable = true)\n",
      "\n"
     ]
    }
   ],
   "source": [
    "df.printSchema()"
   ],
   "metadata": {
    "collapsed": false
   }
  },
  {
   "cell_type": "code",
   "execution_count": 78,
   "outputs": [],
   "source": [
    "#Create a new column with SQL Expr using datediff\n",
    "df= df.withColumn(\"Recency\", expr(\"datediff('2021-6-1', last_order_date_new)\"))"
   ],
   "metadata": {
    "collapsed": false
   }
  },
  {
   "cell_type": "code",
   "execution_count": 79,
   "outputs": [
    {
     "data": {
      "text/plain": "['master_id',\n 'order_channel',\n 'platform_type',\n 'last_order_channel',\n 'first_order_date',\n 'last_order_date',\n 'last_order_date_online',\n 'last_order_date_offline',\n 'order_num_total_ever_online',\n 'order_num_total_ever_offline',\n 'customer_value_total_ever_offline',\n 'customer_value_total_ever_online',\n 'interested_in_categories_12',\n 'online_product_group_amount_top_name_12',\n 'offline_product_group_name_12',\n 'last_order_date_new',\n 'store_type',\n 'Recency']"
     },
     "execution_count": 79,
     "metadata": {},
     "output_type": "execute_result"
    }
   ],
   "source": [
    "df.columns"
   ],
   "metadata": {
    "collapsed": false
   }
  },
  {
   "cell_type": "code",
   "execution_count": 80,
   "outputs": [
    {
     "name": "stdout",
     "output_type": "stream",
     "text": [
      "+--------+---------+-----------+\n",
      "|database|tableName|isTemporary|\n",
      "+--------+---------+-----------+\n",
      "+--------+---------+-----------+\n",
      "\n"
     ]
    }
   ],
   "source": [
    "spark.sql(\"show tables\").show()"
   ],
   "metadata": {
    "collapsed": false
   }
  },
  {
   "cell_type": "code",
   "execution_count": 81,
   "outputs": [
    {
     "name": "stdout",
     "output_type": "stream",
     "text": [
      "+--------------------+\n",
      "|customer_value_total|\n",
      "+--------------------+\n",
      "|              212.98|\n",
      "|              199.98|\n",
      "|              140.49|\n",
      "|              174.99|\n",
      "|              283.95|\n",
      "+--------------------+\n",
      "only showing top 5 rows\n",
      "\n"
     ]
    }
   ],
   "source": [
    "# CREATE NEW COLUMNS WITH SUM OF TWO COLUMNS\n",
    "df.withColumn (\"customer_value_total\", df.customer_value_total_ever_offline + df.customer_value_total_ever_online ).select(\"customer_value_total\").show(5)"
   ],
   "metadata": {
    "collapsed": false
   }
  },
  {
   "cell_type": "code",
   "execution_count": 82,
   "outputs": [],
   "source": [
    "df = df.withColumn (\"customer_value_total\", df.customer_value_total_ever_offline + df.customer_value_total_ever_online )"
   ],
   "metadata": {
    "collapsed": false
   }
  },
  {
   "cell_type": "code",
   "execution_count": 83,
   "outputs": [],
   "source": [
    "# AMORTIZE ALL COLUMN NAMES\n",
    "\n",
    "df = df.toDF(*[c.lower() for c in df.columns])"
   ],
   "metadata": {
    "collapsed": false
   }
  },
  {
   "cell_type": "code",
   "execution_count": 84,
   "outputs": [
    {
     "data": {
      "text/plain": "['master_id',\n 'order_channel',\n 'platform_type',\n 'last_order_channel',\n 'first_order_date',\n 'last_order_date',\n 'last_order_date_online',\n 'last_order_date_offline',\n 'order_num_total_ever_online',\n 'order_num_total_ever_offline',\n 'customer_value_total_ever_offline',\n 'customer_value_total_ever_online',\n 'interested_in_categories_12',\n 'online_product_group_amount_top_name_12',\n 'offline_product_group_name_12',\n 'last_order_date_new',\n 'store_type',\n 'recency',\n 'customer_value_total']"
     },
     "execution_count": 84,
     "metadata": {},
     "output_type": "execute_result"
    }
   ],
   "source": [
    "df.columns"
   ],
   "metadata": {
    "collapsed": false
   }
  },
  {
   "cell_type": "code",
   "execution_count": 85,
   "outputs": [
    {
     "data": {
      "text/plain": "100000"
     },
     "execution_count": 85,
     "metadata": {},
     "output_type": "execute_result"
    }
   ],
   "source": [
    "# UNIQUE VALUE ANALYSIS\n",
    "df.distinct().count()"
   ],
   "metadata": {
    "collapsed": false
   }
  },
  {
   "cell_type": "code",
   "execution_count": 86,
   "outputs": [
    {
     "data": {
      "text/plain": "100000"
     },
     "execution_count": 86,
     "metadata": {},
     "output_type": "execute_result"
    }
   ],
   "source": [
    "# IT SEEMS THERE IS NO DUPLICATED VALUE\n",
    "df.count()"
   ],
   "metadata": {
    "collapsed": false
   }
  },
  {
   "cell_type": "code",
   "execution_count": 87,
   "outputs": [
    {
     "data": {
      "text/plain": "100000"
     },
     "execution_count": 87,
     "metadata": {},
     "output_type": "execute_result"
    }
   ],
   "source": [
    "df.select('master_id').distinct().count()"
   ],
   "metadata": {
    "collapsed": false
   }
  },
  {
   "cell_type": "code",
   "execution_count": 88,
   "outputs": [
    {
     "name": "stdout",
     "output_type": "stream",
     "text": [
      "+--------------------+-------------+-------------+------------------+-------------------+-------------------+----------------------+-----------------------+---------------------------+----------------------------+---------------------------------+--------------------------------+---------------------------+---------------------------------------+-----------------------------+-------------------+----------+-------+--------------------+\n",
      "|           master_id|order_channel|platform_type|last_order_channel|   first_order_date|    last_order_date|last_order_date_online|last_order_date_offline|order_num_total_ever_online|order_num_total_ever_offline|customer_value_total_ever_offline|customer_value_total_ever_online|interested_in_categories_12|online_product_group_amount_top_name_12|offline_product_group_name_12|last_order_date_new|store_type|recency|customer_value_total|\n",
      "+--------------------+-------------+-------------+------------------+-------------------+-------------------+----------------------+-----------------------+---------------------------+----------------------------+---------------------------------+--------------------------------+---------------------------+---------------------------------------+-----------------------------+-------------------+----------+-------+--------------------+\n",
      "|b3ace094-a17f-11e...|      Offline|      Offline|           Offline|2019-02-23 12:59:17|2019-02-23 12:59:17|                  null|    2019-02-23 12:59:17|                       null|                         1.0|                           212.98|                             0.0|                       null|                                   null|                         null|         2019-02-23|         A|    829|              212.98|\n",
      "|c57d7c4c-a950-11e...|      Offline|  OmniChannel|           Offline|2019-12-01 16:48:09|2019-12-01 16:48:09|                  null|    2019-12-01 16:48:09|                       null|                         1.0|                           199.98|                             0.0|                       null|                                   null|                         null|         2019-12-01|         A|    548|              199.98|\n",
      "+--------------------+-------------+-------------+------------------+-------------------+-------------------+----------------------+-----------------------+---------------------------+----------------------------+---------------------------------+--------------------------------+---------------------------+---------------------------------------+-----------------------------+-------------------+----------+-------+--------------------+\n",
      "\n"
     ]
    }
   ],
   "source": [
    "df.limit(2).show()"
   ],
   "metadata": {
    "collapsed": false
   }
  },
  {
   "cell_type": "code",
   "execution_count": 89,
   "outputs": [
    {
     "data": {
      "text/plain": "                              master_id order_channel platform_type  \\\n0  b3ace094-a17f-11e9-a2fc-000d3a38a36f       Offline       Offline   \n\n  last_order_channel    first_order_date     last_order_date  \\\n0            Offline 2019-02-23 12:59:17 2019-02-23 12:59:17   \n\n  last_order_date_online last_order_date_offline  order_num_total_ever_online  \\\n0                    NaT     2019-02-23 12:59:17                          NaN   \n\n   order_num_total_ever_offline  customer_value_total_ever_offline  \\\n0                           1.0                             212.98   \n\n   customer_value_total_ever_online interested_in_categories_12  \\\n0                               0.0                        None   \n\n  online_product_group_amount_top_name_12 offline_product_group_name_12  \\\n0                                    None                          None   \n\n  last_order_date_new store_type  recency  customer_value_total  \n0          2019-02-23          A      829                212.98  ",
      "text/html": "<div>\n<style scoped>\n    .dataframe tbody tr th:only-of-type {\n        vertical-align: middle;\n    }\n\n    .dataframe tbody tr th {\n        vertical-align: top;\n    }\n\n    .dataframe thead th {\n        text-align: right;\n    }\n</style>\n<table border=\"1\" class=\"dataframe\">\n  <thead>\n    <tr style=\"text-align: right;\">\n      <th></th>\n      <th>master_id</th>\n      <th>order_channel</th>\n      <th>platform_type</th>\n      <th>last_order_channel</th>\n      <th>first_order_date</th>\n      <th>last_order_date</th>\n      <th>last_order_date_online</th>\n      <th>last_order_date_offline</th>\n      <th>order_num_total_ever_online</th>\n      <th>order_num_total_ever_offline</th>\n      <th>customer_value_total_ever_offline</th>\n      <th>customer_value_total_ever_online</th>\n      <th>interested_in_categories_12</th>\n      <th>online_product_group_amount_top_name_12</th>\n      <th>offline_product_group_name_12</th>\n      <th>last_order_date_new</th>\n      <th>store_type</th>\n      <th>recency</th>\n      <th>customer_value_total</th>\n    </tr>\n  </thead>\n  <tbody>\n    <tr>\n      <th>0</th>\n      <td>b3ace094-a17f-11e9-a2fc-000d3a38a36f</td>\n      <td>Offline</td>\n      <td>Offline</td>\n      <td>Offline</td>\n      <td>2019-02-23 12:59:17</td>\n      <td>2019-02-23 12:59:17</td>\n      <td>NaT</td>\n      <td>2019-02-23 12:59:17</td>\n      <td>NaN</td>\n      <td>1.0</td>\n      <td>212.98</td>\n      <td>0.0</td>\n      <td>None</td>\n      <td>None</td>\n      <td>None</td>\n      <td>2019-02-23</td>\n      <td>A</td>\n      <td>829</td>\n      <td>212.98</td>\n    </tr>\n  </tbody>\n</table>\n</div>"
     },
     "execution_count": 89,
     "metadata": {},
     "output_type": "execute_result"
    }
   ],
   "source": [
    "# PICK AN OBSERVATION\n",
    "df.filter(df.master_id ==\"b3ace094-a17f-11e9-a2fc-000d3a38a36f\").toPandas()\n",
    "# df.filter(df.master_id ==\"b3ace094-a17f-11e9-a2fc-000d3a38a36f\" ).show()"
   ],
   "metadata": {
    "collapsed": false
   }
  },
  {
   "cell_type": "code",
   "execution_count": 90,
   "outputs": [
    {
     "data": {
      "text/plain": "  summary                             master_id order_channel platform_type  \\\n0   count                                100000        100000        100000   \n1    mean                                  None          None          None   \n2  stddev                                  None          None          None   \n3     min  00011a7c-5b3a-11ea-b125-000d3a38a36f   Android App       Offline   \n4     max  ffffacf4-b23d-11ea-b736-000d3a38a36f       Offline        Online   \n\n  last_order_channel order_num_total_ever_online order_num_total_ever_offline  \\\n0             100000                       29216                        78297   \n1               None            2.66980421686747           1.6172778011928937   \n2               None          3.4220875079703506           2.5701393859175456   \n3        Android App                         1.0                          1.0   \n4            Offline                       142.0                        377.0   \n\n  customer_value_total_ever_offline customer_value_total_ever_online  \\\n0                            100000                           100000   \n1                171.65589480013833                120.4383612000303   \n2                332.48957911271873               359.37643994588313   \n3                               0.0                              0.0   \n4                          51178.23                         21962.85   \n\n  interested_in_categories_12 online_product_group_amount_top_name_12  \\\n0                       43410                                   11705   \n1                        None                                    None   \n2                        None                                    None   \n3     [AKTIFCOCUK, AKTIFSPOR]                              AKTIFCOCUK   \n4                          []                                   KADIN   \n\n  offline_product_group_name_12 last_order_date_new store_type  \\\n0                         22791              100000     100000   \n1                          None                None       None   \n2                          None                None       None   \n3                    AKTIFCOCUK          2018-05-31          A   \n4                         KADIN          2021-05-30        B,C   \n\n              recency customer_value_total  \n0              100000               100000  \n1           413.60178    292.0942559998722  \n2  255.23885293887244    463.1197490300459  \n3                   2                  0.0  \n4                1097             51178.23  ",
      "text/html": "<div>\n<style scoped>\n    .dataframe tbody tr th:only-of-type {\n        vertical-align: middle;\n    }\n\n    .dataframe tbody tr th {\n        vertical-align: top;\n    }\n\n    .dataframe thead th {\n        text-align: right;\n    }\n</style>\n<table border=\"1\" class=\"dataframe\">\n  <thead>\n    <tr style=\"text-align: right;\">\n      <th></th>\n      <th>summary</th>\n      <th>master_id</th>\n      <th>order_channel</th>\n      <th>platform_type</th>\n      <th>last_order_channel</th>\n      <th>order_num_total_ever_online</th>\n      <th>order_num_total_ever_offline</th>\n      <th>customer_value_total_ever_offline</th>\n      <th>customer_value_total_ever_online</th>\n      <th>interested_in_categories_12</th>\n      <th>online_product_group_amount_top_name_12</th>\n      <th>offline_product_group_name_12</th>\n      <th>last_order_date_new</th>\n      <th>store_type</th>\n      <th>recency</th>\n      <th>customer_value_total</th>\n    </tr>\n  </thead>\n  <tbody>\n    <tr>\n      <th>0</th>\n      <td>count</td>\n      <td>100000</td>\n      <td>100000</td>\n      <td>100000</td>\n      <td>100000</td>\n      <td>29216</td>\n      <td>78297</td>\n      <td>100000</td>\n      <td>100000</td>\n      <td>43410</td>\n      <td>11705</td>\n      <td>22791</td>\n      <td>100000</td>\n      <td>100000</td>\n      <td>100000</td>\n      <td>100000</td>\n    </tr>\n    <tr>\n      <th>1</th>\n      <td>mean</td>\n      <td>None</td>\n      <td>None</td>\n      <td>None</td>\n      <td>None</td>\n      <td>2.66980421686747</td>\n      <td>1.6172778011928937</td>\n      <td>171.65589480013833</td>\n      <td>120.4383612000303</td>\n      <td>None</td>\n      <td>None</td>\n      <td>None</td>\n      <td>None</td>\n      <td>None</td>\n      <td>413.60178</td>\n      <td>292.0942559998722</td>\n    </tr>\n    <tr>\n      <th>2</th>\n      <td>stddev</td>\n      <td>None</td>\n      <td>None</td>\n      <td>None</td>\n      <td>None</td>\n      <td>3.4220875079703506</td>\n      <td>2.5701393859175456</td>\n      <td>332.48957911271873</td>\n      <td>359.37643994588313</td>\n      <td>None</td>\n      <td>None</td>\n      <td>None</td>\n      <td>None</td>\n      <td>None</td>\n      <td>255.23885293887244</td>\n      <td>463.1197490300459</td>\n    </tr>\n    <tr>\n      <th>3</th>\n      <td>min</td>\n      <td>00011a7c-5b3a-11ea-b125-000d3a38a36f</td>\n      <td>Android App</td>\n      <td>Offline</td>\n      <td>Android App</td>\n      <td>1.0</td>\n      <td>1.0</td>\n      <td>0.0</td>\n      <td>0.0</td>\n      <td>[AKTIFCOCUK, AKTIFSPOR]</td>\n      <td>AKTIFCOCUK</td>\n      <td>AKTIFCOCUK</td>\n      <td>2018-05-31</td>\n      <td>A</td>\n      <td>2</td>\n      <td>0.0</td>\n    </tr>\n    <tr>\n      <th>4</th>\n      <td>max</td>\n      <td>ffffacf4-b23d-11ea-b736-000d3a38a36f</td>\n      <td>Offline</td>\n      <td>Online</td>\n      <td>Offline</td>\n      <td>142.0</td>\n      <td>377.0</td>\n      <td>51178.23</td>\n      <td>21962.85</td>\n      <td>[]</td>\n      <td>KADIN</td>\n      <td>KADIN</td>\n      <td>2021-05-30</td>\n      <td>B,C</td>\n      <td>1097</td>\n      <td>51178.23</td>\n    </tr>\n  </tbody>\n</table>\n</div>"
     },
     "execution_count": 90,
     "metadata": {},
     "output_type": "execute_result"
    }
   ],
   "source": [
    "#Descriptive Statistics\n",
    "df.describe().toPandas()"
   ],
   "metadata": {
    "collapsed": false
   }
  },
  {
   "cell_type": "code",
   "execution_count": 91,
   "outputs": [
    {
     "data": {
      "text/plain": "                           0                  1                   2    3  \\\nsummary                count               mean              stddev  min   \nrecency               100000          413.60178  255.23885293887244    2   \ncustomer_value_total  100000  292.0942559998722   463.1197490300459  0.0   \n\n                             4  \nsummary                    max  \nrecency                   1097  \ncustomer_value_total  51178.23  ",
      "text/html": "<div>\n<style scoped>\n    .dataframe tbody tr th:only-of-type {\n        vertical-align: middle;\n    }\n\n    .dataframe tbody tr th {\n        vertical-align: top;\n    }\n\n    .dataframe thead th {\n        text-align: right;\n    }\n</style>\n<table border=\"1\" class=\"dataframe\">\n  <thead>\n    <tr style=\"text-align: right;\">\n      <th></th>\n      <th>0</th>\n      <th>1</th>\n      <th>2</th>\n      <th>3</th>\n      <th>4</th>\n    </tr>\n  </thead>\n  <tbody>\n    <tr>\n      <th>summary</th>\n      <td>count</td>\n      <td>mean</td>\n      <td>stddev</td>\n      <td>min</td>\n      <td>max</td>\n    </tr>\n    <tr>\n      <th>recency</th>\n      <td>100000</td>\n      <td>413.60178</td>\n      <td>255.23885293887244</td>\n      <td>2</td>\n      <td>1097</td>\n    </tr>\n    <tr>\n      <th>customer_value_total</th>\n      <td>100000</td>\n      <td>292.0942559998722</td>\n      <td>463.1197490300459</td>\n      <td>0.0</td>\n      <td>51178.23</td>\n    </tr>\n  </tbody>\n</table>\n</div>"
     },
     "execution_count": 91,
     "metadata": {},
     "output_type": "execute_result"
    }
   ],
   "source": [
    "# CHECK CROSS TABULATION WITH DESCRIBE METHOD\n",
    "df.select (\"recency\",\"customer_value_total\").describe().toPandas().transpose()"
   ],
   "metadata": {
    "collapsed": false
   }
  },
  {
   "cell_type": "code",
   "execution_count": 92,
   "outputs": [
    {
     "data": {
      "text/plain": "83917"
     },
     "execution_count": 92,
     "metadata": {},
     "output_type": "execute_result"
    }
   ],
   "source": [
    "#VALUE FILTERIN ON OBSERVATIONS\n",
    "df.filter(df.recency > 100 ).count()"
   ],
   "metadata": {
    "collapsed": false
   }
  },
  {
   "cell_type": "code",
   "execution_count": 93,
   "outputs": [
    {
     "name": "stdout",
     "output_type": "stream",
     "text": [
      "+-------------+-----+\n",
      "|order_channel|count|\n",
      "+-------------+-----+\n",
      "|  Android App|11989|\n",
      "|       Mobile| 8512|\n",
      "|      Ios App| 3964|\n",
      "|      Desktop| 4751|\n",
      "|      Offline|70784|\n",
      "+-------------+-----+\n",
      "\n"
     ]
    }
   ],
   "source": [
    "# CHECK ALL THE CLASSES IN A VARIABLE\n",
    "df.groupby(\"order_channel\").count().show()"
   ],
   "metadata": {
    "collapsed": false
   }
  },
  {
   "cell_type": "code",
   "execution_count": 94,
   "outputs": [
    {
     "name": "stdout",
     "output_type": "stream",
     "text": [
      "+-------------+-----+\n",
      "|order_channel|count|\n",
      "+-------------+-----+\n",
      "|      Offline|70784|\n",
      "|  Android App|11989|\n",
      "|       Mobile| 8512|\n",
      "+-------------+-----+\n",
      "only showing top 3 rows\n",
      "\n"
     ]
    }
   ],
   "source": [
    "# CHECK ALL THE CLASSES COUNT IN A VARIABLE IN DESCENDING ORDER\n",
    "df. groupby(\"order_channel\").count().sort (\"count\", ascending = False).show (3)"
   ],
   "metadata": {
    "collapsed": false
   }
  },
  {
   "cell_type": "code",
   "execution_count": 95,
   "outputs": [
    {
     "name": "stdout",
     "output_type": "stream",
     "text": [
      "+-------------+-------------------------+\n",
      "|order_channel|avg(customer_value_total)|\n",
      "+-------------+-------------------------+\n",
      "|  Android App|         532.846284093796|\n",
      "|       Mobile|        391.7418761748324|\n",
      "|      Ios App|        568.4640312815278|\n",
      "|      Desktop|       376.91355504103205|\n",
      "|      Offline|        218.1639484913738|\n",
      "+-------------+-------------------------+\n",
      "\n"
     ]
    }
   ],
   "source": [
    "# CHECK CROSS TABULATION WITH AGG FUNCTION\n",
    "df.groupby(\"order_channel\"). agg ({ \"customer_value_total\" : \"mean\"}). show ()"
   ],
   "metadata": {
    "collapsed": false
   }
  },
  {
   "cell_type": "code",
   "execution_count": 96,
   "outputs": [
    {
     "data": {
      "text/plain": "[('master_id', 'string'),\n ('order_channel', 'string'),\n ('platform_type', 'string'),\n ('last_order_channel', 'string'),\n ('first_order_date', 'timestamp'),\n ('last_order_date', 'timestamp'),\n ('last_order_date_online', 'timestamp'),\n ('last_order_date_offline', 'timestamp'),\n ('order_num_total_ever_online', 'double'),\n ('order_num_total_ever_offline', 'double'),\n ('customer_value_total_ever_offline', 'double'),\n ('customer_value_total_ever_online', 'double'),\n ('interested_in_categories_12', 'string'),\n ('online_product_group_amount_top_name_12', 'string'),\n ('offline_product_group_name_12', 'string'),\n ('last_order_date_new', 'string'),\n ('store_type', 'string'),\n ('recency', 'int'),\n ('customer_value_total', 'double')]"
     },
     "execution_count": 96,
     "metadata": {},
     "output_type": "execute_result"
    }
   ],
   "source": [
    "df.dtypes"
   ],
   "metadata": {
    "collapsed": false
   }
  },
  {
   "cell_type": "markdown",
   "source": [
    "### STRING INDEXING MULTIPLE COLUMNS"
   ],
   "metadata": {
    "collapsed": false
   }
  },
  {
   "cell_type": "code",
   "execution_count": 97,
   "outputs": [],
   "source": [
    "from pyspark.ml import Pipeline\n",
    "from pyspark.ml.feature import StringIndexer,  VectorAssembler, StandardScaler,OneHotEncoder\n",
    "inputs = ['order_channel','platform_type']\n",
    "outputs =[\"orderindexed\",\"platformindexed\" ]\n",
    "indexer = StringIndexer(inputCols=inputs, outputCols= outputs)\n",
    "indexed = indexer.fit(df).transform(df)"
   ],
   "metadata": {
    "collapsed": false
   }
  },
  {
   "cell_type": "code",
   "execution_count": 98,
   "outputs": [
    {
     "data": {
      "text/plain": "                              master_id order_channel platform_type  \\\n0  b3ace094-a17f-11e9-a2fc-000d3a38a36f       Offline       Offline   \n1  c57d7c4c-a950-11e9-a2fc-000d3a38a36f       Offline   OmniChannel   \n2  602897a6-cdac-11ea-b31f-000d3a38a36f       Offline       Offline   \n3  388e4c4e-af86-11e9-a2fc-000d3a38a36f        Mobile        Online   \n4  80664354-adf0-11eb-8f64-000d3a299ebf       Desktop        Online   \n\n  last_order_channel    first_order_date     last_order_date  \\\n0            Offline 2019-02-23 12:59:17 2019-02-23 12:59:17   \n1            Offline 2019-12-01 16:48:09 2019-12-01 16:48:09   \n2            Offline 2020-07-24 15:49:47 2020-07-24 15:49:47   \n3             Mobile 2018-12-31 07:22:07 2018-12-31 07:22:07   \n4            Desktop 2021-05-05 21:07:02 2021-05-05 22:39:36   \n\n  last_order_date_online last_order_date_offline  order_num_total_ever_online  \\\n0                    NaT     2019-02-23 12:59:17                          NaN   \n1                    NaT     2019-12-01 16:48:09                          NaN   \n2                    NaT     2020-07-24 15:49:47                          NaN   \n3    2018-12-31 07:22:07                     NaT                          1.0   \n4    2021-05-05 22:39:36                     NaT                          2.0   \n\n   order_num_total_ever_offline  ...  customer_value_total_ever_online  \\\n0                           1.0  ...                              0.00   \n1                           1.0  ...                              0.00   \n2                           1.0  ...                              0.00   \n3                           NaN  ...                            174.99   \n4                           NaN  ...                            283.95   \n\n   interested_in_categories_12 online_product_group_amount_top_name_12  \\\n0                         None                                    None   \n1                         None                                    None   \n2                      [ERKEK]                                    None   \n3                         None                                    None   \n4                           []                                    None   \n\n  offline_product_group_name_12 last_order_date_new store_type recency  \\\n0                          None          2019-02-23          A     829   \n1                          None          2019-12-01          A     548   \n2                         ERKEK          2020-07-24          A     312   \n3                          None          2018-12-31          A     883   \n4                          None          2021-05-05          A      27   \n\n   customer_value_total  orderindexed  platformindexed  \n0                212.98           0.0              0.0  \n1                199.98           0.0              2.0  \n2                140.49           0.0              0.0  \n3                174.99           2.0              1.0  \n4                283.95           3.0              1.0  \n\n[5 rows x 21 columns]",
      "text/html": "<div>\n<style scoped>\n    .dataframe tbody tr th:only-of-type {\n        vertical-align: middle;\n    }\n\n    .dataframe tbody tr th {\n        vertical-align: top;\n    }\n\n    .dataframe thead th {\n        text-align: right;\n    }\n</style>\n<table border=\"1\" class=\"dataframe\">\n  <thead>\n    <tr style=\"text-align: right;\">\n      <th></th>\n      <th>master_id</th>\n      <th>order_channel</th>\n      <th>platform_type</th>\n      <th>last_order_channel</th>\n      <th>first_order_date</th>\n      <th>last_order_date</th>\n      <th>last_order_date_online</th>\n      <th>last_order_date_offline</th>\n      <th>order_num_total_ever_online</th>\n      <th>order_num_total_ever_offline</th>\n      <th>...</th>\n      <th>customer_value_total_ever_online</th>\n      <th>interested_in_categories_12</th>\n      <th>online_product_group_amount_top_name_12</th>\n      <th>offline_product_group_name_12</th>\n      <th>last_order_date_new</th>\n      <th>store_type</th>\n      <th>recency</th>\n      <th>customer_value_total</th>\n      <th>orderindexed</th>\n      <th>platformindexed</th>\n    </tr>\n  </thead>\n  <tbody>\n    <tr>\n      <th>0</th>\n      <td>b3ace094-a17f-11e9-a2fc-000d3a38a36f</td>\n      <td>Offline</td>\n      <td>Offline</td>\n      <td>Offline</td>\n      <td>2019-02-23 12:59:17</td>\n      <td>2019-02-23 12:59:17</td>\n      <td>NaT</td>\n      <td>2019-02-23 12:59:17</td>\n      <td>NaN</td>\n      <td>1.0</td>\n      <td>...</td>\n      <td>0.00</td>\n      <td>None</td>\n      <td>None</td>\n      <td>None</td>\n      <td>2019-02-23</td>\n      <td>A</td>\n      <td>829</td>\n      <td>212.98</td>\n      <td>0.0</td>\n      <td>0.0</td>\n    </tr>\n    <tr>\n      <th>1</th>\n      <td>c57d7c4c-a950-11e9-a2fc-000d3a38a36f</td>\n      <td>Offline</td>\n      <td>OmniChannel</td>\n      <td>Offline</td>\n      <td>2019-12-01 16:48:09</td>\n      <td>2019-12-01 16:48:09</td>\n      <td>NaT</td>\n      <td>2019-12-01 16:48:09</td>\n      <td>NaN</td>\n      <td>1.0</td>\n      <td>...</td>\n      <td>0.00</td>\n      <td>None</td>\n      <td>None</td>\n      <td>None</td>\n      <td>2019-12-01</td>\n      <td>A</td>\n      <td>548</td>\n      <td>199.98</td>\n      <td>0.0</td>\n      <td>2.0</td>\n    </tr>\n    <tr>\n      <th>2</th>\n      <td>602897a6-cdac-11ea-b31f-000d3a38a36f</td>\n      <td>Offline</td>\n      <td>Offline</td>\n      <td>Offline</td>\n      <td>2020-07-24 15:49:47</td>\n      <td>2020-07-24 15:49:47</td>\n      <td>NaT</td>\n      <td>2020-07-24 15:49:47</td>\n      <td>NaN</td>\n      <td>1.0</td>\n      <td>...</td>\n      <td>0.00</td>\n      <td>[ERKEK]</td>\n      <td>None</td>\n      <td>ERKEK</td>\n      <td>2020-07-24</td>\n      <td>A</td>\n      <td>312</td>\n      <td>140.49</td>\n      <td>0.0</td>\n      <td>0.0</td>\n    </tr>\n    <tr>\n      <th>3</th>\n      <td>388e4c4e-af86-11e9-a2fc-000d3a38a36f</td>\n      <td>Mobile</td>\n      <td>Online</td>\n      <td>Mobile</td>\n      <td>2018-12-31 07:22:07</td>\n      <td>2018-12-31 07:22:07</td>\n      <td>2018-12-31 07:22:07</td>\n      <td>NaT</td>\n      <td>1.0</td>\n      <td>NaN</td>\n      <td>...</td>\n      <td>174.99</td>\n      <td>None</td>\n      <td>None</td>\n      <td>None</td>\n      <td>2018-12-31</td>\n      <td>A</td>\n      <td>883</td>\n      <td>174.99</td>\n      <td>2.0</td>\n      <td>1.0</td>\n    </tr>\n    <tr>\n      <th>4</th>\n      <td>80664354-adf0-11eb-8f64-000d3a299ebf</td>\n      <td>Desktop</td>\n      <td>Online</td>\n      <td>Desktop</td>\n      <td>2021-05-05 21:07:02</td>\n      <td>2021-05-05 22:39:36</td>\n      <td>2021-05-05 22:39:36</td>\n      <td>NaT</td>\n      <td>2.0</td>\n      <td>NaN</td>\n      <td>...</td>\n      <td>283.95</td>\n      <td>[]</td>\n      <td>None</td>\n      <td>None</td>\n      <td>2021-05-05</td>\n      <td>A</td>\n      <td>27</td>\n      <td>283.95</td>\n      <td>3.0</td>\n      <td>1.0</td>\n    </tr>\n  </tbody>\n</table>\n<p>5 rows × 21 columns</p>\n</div>"
     },
     "execution_count": 98,
     "metadata": {},
     "output_type": "execute_result"
    }
   ],
   "source": [
    "indexed.limit(5).toPandas()"
   ],
   "metadata": {
    "collapsed": false
   }
  },
  {
   "cell_type": "markdown",
   "source": [
    "### ONE HOT ENCODING"
   ],
   "metadata": {
    "collapsed": false
   }
  },
  {
   "cell_type": "code",
   "execution_count": 99,
   "outputs": [],
   "source": [
    "encoder = OneHotEncoder() \\\n",
    ".setInputCols([\"orderindexed\",\"platformindexed\" ]) \\\n",
    ".setOutputCols([\"orderencoded\",\"platformencoded\" ])\n",
    "\n",
    "encoder_model = encoder.fit(indexed)\n",
    "encoded = encoder_model.transform(indexed)"
   ],
   "metadata": {
    "collapsed": false
   }
  },
  {
   "cell_type": "code",
   "execution_count": 100,
   "outputs": [
    {
     "data": {
      "text/plain": "                              master_id order_channel platform_type  \\\n0  b3ace094-a17f-11e9-a2fc-000d3a38a36f       Offline       Offline   \n1  c57d7c4c-a950-11e9-a2fc-000d3a38a36f       Offline   OmniChannel   \n2  602897a6-cdac-11ea-b31f-000d3a38a36f       Offline       Offline   \n3  388e4c4e-af86-11e9-a2fc-000d3a38a36f        Mobile        Online   \n4  80664354-adf0-11eb-8f64-000d3a299ebf       Desktop        Online   \n\n  last_order_channel    first_order_date     last_order_date  \\\n0            Offline 2019-02-23 12:59:17 2019-02-23 12:59:17   \n1            Offline 2019-12-01 16:48:09 2019-12-01 16:48:09   \n2            Offline 2020-07-24 15:49:47 2020-07-24 15:49:47   \n3             Mobile 2018-12-31 07:22:07 2018-12-31 07:22:07   \n4            Desktop 2021-05-05 21:07:02 2021-05-05 22:39:36   \n\n  last_order_date_online last_order_date_offline  order_num_total_ever_online  \\\n0                    NaT     2019-02-23 12:59:17                          NaN   \n1                    NaT     2019-12-01 16:48:09                          NaN   \n2                    NaT     2020-07-24 15:49:47                          NaN   \n3    2018-12-31 07:22:07                     NaT                          1.0   \n4    2021-05-05 22:39:36                     NaT                          2.0   \n\n   order_num_total_ever_offline  ...  online_product_group_amount_top_name_12  \\\n0                           1.0  ...                                     None   \n1                           1.0  ...                                     None   \n2                           1.0  ...                                     None   \n3                           NaN  ...                                     None   \n4                           NaN  ...                                     None   \n\n   offline_product_group_name_12 last_order_date_new store_type recency  \\\n0                           None          2019-02-23          A     829   \n1                           None          2019-12-01          A     548   \n2                          ERKEK          2020-07-24          A     312   \n3                           None          2018-12-31          A     883   \n4                           None          2021-05-05          A      27   \n\n  customer_value_total orderindexed  platformindexed          orderencoded  \\\n0               212.98          0.0              0.0  (1.0, 0.0, 0.0, 0.0)   \n1               199.98          0.0              2.0  (1.0, 0.0, 0.0, 0.0)   \n2               140.49          0.0              0.0  (1.0, 0.0, 0.0, 0.0)   \n3               174.99          2.0              1.0  (0.0, 0.0, 1.0, 0.0)   \n4               283.95          3.0              1.0  (0.0, 0.0, 0.0, 1.0)   \n\n   platformencoded  \n0       (1.0, 0.0)  \n1       (0.0, 0.0)  \n2       (1.0, 0.0)  \n3       (0.0, 1.0)  \n4       (0.0, 1.0)  \n\n[5 rows x 23 columns]",
      "text/html": "<div>\n<style scoped>\n    .dataframe tbody tr th:only-of-type {\n        vertical-align: middle;\n    }\n\n    .dataframe tbody tr th {\n        vertical-align: top;\n    }\n\n    .dataframe thead th {\n        text-align: right;\n    }\n</style>\n<table border=\"1\" class=\"dataframe\">\n  <thead>\n    <tr style=\"text-align: right;\">\n      <th></th>\n      <th>master_id</th>\n      <th>order_channel</th>\n      <th>platform_type</th>\n      <th>last_order_channel</th>\n      <th>first_order_date</th>\n      <th>last_order_date</th>\n      <th>last_order_date_online</th>\n      <th>last_order_date_offline</th>\n      <th>order_num_total_ever_online</th>\n      <th>order_num_total_ever_offline</th>\n      <th>...</th>\n      <th>online_product_group_amount_top_name_12</th>\n      <th>offline_product_group_name_12</th>\n      <th>last_order_date_new</th>\n      <th>store_type</th>\n      <th>recency</th>\n      <th>customer_value_total</th>\n      <th>orderindexed</th>\n      <th>platformindexed</th>\n      <th>orderencoded</th>\n      <th>platformencoded</th>\n    </tr>\n  </thead>\n  <tbody>\n    <tr>\n      <th>0</th>\n      <td>b3ace094-a17f-11e9-a2fc-000d3a38a36f</td>\n      <td>Offline</td>\n      <td>Offline</td>\n      <td>Offline</td>\n      <td>2019-02-23 12:59:17</td>\n      <td>2019-02-23 12:59:17</td>\n      <td>NaT</td>\n      <td>2019-02-23 12:59:17</td>\n      <td>NaN</td>\n      <td>1.0</td>\n      <td>...</td>\n      <td>None</td>\n      <td>None</td>\n      <td>2019-02-23</td>\n      <td>A</td>\n      <td>829</td>\n      <td>212.98</td>\n      <td>0.0</td>\n      <td>0.0</td>\n      <td>(1.0, 0.0, 0.0, 0.0)</td>\n      <td>(1.0, 0.0)</td>\n    </tr>\n    <tr>\n      <th>1</th>\n      <td>c57d7c4c-a950-11e9-a2fc-000d3a38a36f</td>\n      <td>Offline</td>\n      <td>OmniChannel</td>\n      <td>Offline</td>\n      <td>2019-12-01 16:48:09</td>\n      <td>2019-12-01 16:48:09</td>\n      <td>NaT</td>\n      <td>2019-12-01 16:48:09</td>\n      <td>NaN</td>\n      <td>1.0</td>\n      <td>...</td>\n      <td>None</td>\n      <td>None</td>\n      <td>2019-12-01</td>\n      <td>A</td>\n      <td>548</td>\n      <td>199.98</td>\n      <td>0.0</td>\n      <td>2.0</td>\n      <td>(1.0, 0.0, 0.0, 0.0)</td>\n      <td>(0.0, 0.0)</td>\n    </tr>\n    <tr>\n      <th>2</th>\n      <td>602897a6-cdac-11ea-b31f-000d3a38a36f</td>\n      <td>Offline</td>\n      <td>Offline</td>\n      <td>Offline</td>\n      <td>2020-07-24 15:49:47</td>\n      <td>2020-07-24 15:49:47</td>\n      <td>NaT</td>\n      <td>2020-07-24 15:49:47</td>\n      <td>NaN</td>\n      <td>1.0</td>\n      <td>...</td>\n      <td>None</td>\n      <td>ERKEK</td>\n      <td>2020-07-24</td>\n      <td>A</td>\n      <td>312</td>\n      <td>140.49</td>\n      <td>0.0</td>\n      <td>0.0</td>\n      <td>(1.0, 0.0, 0.0, 0.0)</td>\n      <td>(1.0, 0.0)</td>\n    </tr>\n    <tr>\n      <th>3</th>\n      <td>388e4c4e-af86-11e9-a2fc-000d3a38a36f</td>\n      <td>Mobile</td>\n      <td>Online</td>\n      <td>Mobile</td>\n      <td>2018-12-31 07:22:07</td>\n      <td>2018-12-31 07:22:07</td>\n      <td>2018-12-31 07:22:07</td>\n      <td>NaT</td>\n      <td>1.0</td>\n      <td>NaN</td>\n      <td>...</td>\n      <td>None</td>\n      <td>None</td>\n      <td>2018-12-31</td>\n      <td>A</td>\n      <td>883</td>\n      <td>174.99</td>\n      <td>2.0</td>\n      <td>1.0</td>\n      <td>(0.0, 0.0, 1.0, 0.0)</td>\n      <td>(0.0, 1.0)</td>\n    </tr>\n    <tr>\n      <th>4</th>\n      <td>80664354-adf0-11eb-8f64-000d3a299ebf</td>\n      <td>Desktop</td>\n      <td>Online</td>\n      <td>Desktop</td>\n      <td>2021-05-05 21:07:02</td>\n      <td>2021-05-05 22:39:36</td>\n      <td>2021-05-05 22:39:36</td>\n      <td>NaT</td>\n      <td>2.0</td>\n      <td>NaN</td>\n      <td>...</td>\n      <td>None</td>\n      <td>None</td>\n      <td>2021-05-05</td>\n      <td>A</td>\n      <td>27</td>\n      <td>283.95</td>\n      <td>3.0</td>\n      <td>1.0</td>\n      <td>(0.0, 0.0, 0.0, 1.0)</td>\n      <td>(0.0, 1.0)</td>\n    </tr>\n  </tbody>\n</table>\n<p>5 rows × 23 columns</p>\n</div>"
     },
     "execution_count": 100,
     "metadata": {},
     "output_type": "execute_result"
    }
   ],
   "source": [
    "encoded.limit(5).toPandas()"
   ],
   "metadata": {
    "collapsed": false
   }
  },
  {
   "cell_type": "markdown",
   "source": [
    "### VECTOR ASSEMBLER"
   ],
   "metadata": {
    "collapsed": false
   }
  },
  {
   "cell_type": "code",
   "execution_count": 101,
   "outputs": [],
   "source": [
    "# VECTOR ASSEMBLER FOR INDEPENDENT VARIABLES -FEATURES\n",
    "# PICK VARIABLES AS ftures list\n",
    "\n",
    "ftures = [\"orderencoded\",\"platformencoded\" , 'customer_value_total_ever_offline',  'customer_value_total_ever_online',  'recency']\n",
    "\n",
    "vectorAssembler = VectorAssembler(inputCols= ftures, outputCol = \"features\")\n",
    "vectorized =vectorAssembler.transform(encoded)"
   ],
   "metadata": {
    "collapsed": false
   }
  },
  {
   "cell_type": "code",
   "execution_count": 102,
   "outputs": [
    {
     "data": {
      "text/plain": "                              master_id order_channel platform_type  \\\n0  b3ace094-a17f-11e9-a2fc-000d3a38a36f       Offline       Offline   \n1  c57d7c4c-a950-11e9-a2fc-000d3a38a36f       Offline   OmniChannel   \n2  602897a6-cdac-11ea-b31f-000d3a38a36f       Offline       Offline   \n3  388e4c4e-af86-11e9-a2fc-000d3a38a36f        Mobile        Online   \n4  80664354-adf0-11eb-8f64-000d3a299ebf       Desktop        Online   \n\n  last_order_channel    first_order_date     last_order_date  \\\n0            Offline 2019-02-23 12:59:17 2019-02-23 12:59:17   \n1            Offline 2019-12-01 16:48:09 2019-12-01 16:48:09   \n2            Offline 2020-07-24 15:49:47 2020-07-24 15:49:47   \n3             Mobile 2018-12-31 07:22:07 2018-12-31 07:22:07   \n4            Desktop 2021-05-05 21:07:02 2021-05-05 22:39:36   \n\n  last_order_date_online last_order_date_offline  order_num_total_ever_online  \\\n0                    NaT     2019-02-23 12:59:17                          NaN   \n1                    NaT     2019-12-01 16:48:09                          NaN   \n2                    NaT     2020-07-24 15:49:47                          NaN   \n3    2018-12-31 07:22:07                     NaT                          1.0   \n4    2021-05-05 22:39:36                     NaT                          2.0   \n\n   order_num_total_ever_offline  ...  offline_product_group_name_12  \\\n0                           1.0  ...                           None   \n1                           1.0  ...                           None   \n2                           1.0  ...                          ERKEK   \n3                           NaN  ...                           None   \n4                           NaN  ...                           None   \n\n   last_order_date_new store_type recency customer_value_total orderindexed  \\\n0           2019-02-23          A     829               212.98          0.0   \n1           2019-12-01          A     548               199.98          0.0   \n2           2020-07-24          A     312               140.49          0.0   \n3           2018-12-31          A     883               174.99          2.0   \n4           2021-05-05          A      27               283.95          3.0   \n\n  platformindexed          orderencoded  platformencoded  \\\n0             0.0  (1.0, 0.0, 0.0, 0.0)       (1.0, 0.0)   \n1             2.0  (1.0, 0.0, 0.0, 0.0)       (0.0, 0.0)   \n2             0.0  (1.0, 0.0, 0.0, 0.0)       (1.0, 0.0)   \n3             1.0  (0.0, 0.0, 1.0, 0.0)       (0.0, 1.0)   \n4             1.0  (0.0, 0.0, 0.0, 1.0)       (0.0, 1.0)   \n\n                                            features  \n0  (1.0, 0.0, 0.0, 0.0, 1.0, 0.0, 212.98, 0.0, 82...  \n1  (1.0, 0.0, 0.0, 0.0, 0.0, 0.0, 199.98, 0.0, 54...  \n2  (1.0, 0.0, 0.0, 0.0, 1.0, 0.0, 140.49, 0.0, 31...  \n3  (0.0, 0.0, 1.0, 0.0, 0.0, 1.0, 0.0, 174.99, 88...  \n4  (0.0, 0.0, 0.0, 1.0, 0.0, 1.0, 0.0, 283.95, 27.0)  \n\n[5 rows x 24 columns]",
      "text/html": "<div>\n<style scoped>\n    .dataframe tbody tr th:only-of-type {\n        vertical-align: middle;\n    }\n\n    .dataframe tbody tr th {\n        vertical-align: top;\n    }\n\n    .dataframe thead th {\n        text-align: right;\n    }\n</style>\n<table border=\"1\" class=\"dataframe\">\n  <thead>\n    <tr style=\"text-align: right;\">\n      <th></th>\n      <th>master_id</th>\n      <th>order_channel</th>\n      <th>platform_type</th>\n      <th>last_order_channel</th>\n      <th>first_order_date</th>\n      <th>last_order_date</th>\n      <th>last_order_date_online</th>\n      <th>last_order_date_offline</th>\n      <th>order_num_total_ever_online</th>\n      <th>order_num_total_ever_offline</th>\n      <th>...</th>\n      <th>offline_product_group_name_12</th>\n      <th>last_order_date_new</th>\n      <th>store_type</th>\n      <th>recency</th>\n      <th>customer_value_total</th>\n      <th>orderindexed</th>\n      <th>platformindexed</th>\n      <th>orderencoded</th>\n      <th>platformencoded</th>\n      <th>features</th>\n    </tr>\n  </thead>\n  <tbody>\n    <tr>\n      <th>0</th>\n      <td>b3ace094-a17f-11e9-a2fc-000d3a38a36f</td>\n      <td>Offline</td>\n      <td>Offline</td>\n      <td>Offline</td>\n      <td>2019-02-23 12:59:17</td>\n      <td>2019-02-23 12:59:17</td>\n      <td>NaT</td>\n      <td>2019-02-23 12:59:17</td>\n      <td>NaN</td>\n      <td>1.0</td>\n      <td>...</td>\n      <td>None</td>\n      <td>2019-02-23</td>\n      <td>A</td>\n      <td>829</td>\n      <td>212.98</td>\n      <td>0.0</td>\n      <td>0.0</td>\n      <td>(1.0, 0.0, 0.0, 0.0)</td>\n      <td>(1.0, 0.0)</td>\n      <td>(1.0, 0.0, 0.0, 0.0, 1.0, 0.0, 212.98, 0.0, 82...</td>\n    </tr>\n    <tr>\n      <th>1</th>\n      <td>c57d7c4c-a950-11e9-a2fc-000d3a38a36f</td>\n      <td>Offline</td>\n      <td>OmniChannel</td>\n      <td>Offline</td>\n      <td>2019-12-01 16:48:09</td>\n      <td>2019-12-01 16:48:09</td>\n      <td>NaT</td>\n      <td>2019-12-01 16:48:09</td>\n      <td>NaN</td>\n      <td>1.0</td>\n      <td>...</td>\n      <td>None</td>\n      <td>2019-12-01</td>\n      <td>A</td>\n      <td>548</td>\n      <td>199.98</td>\n      <td>0.0</td>\n      <td>2.0</td>\n      <td>(1.0, 0.0, 0.0, 0.0)</td>\n      <td>(0.0, 0.0)</td>\n      <td>(1.0, 0.0, 0.0, 0.0, 0.0, 0.0, 199.98, 0.0, 54...</td>\n    </tr>\n    <tr>\n      <th>2</th>\n      <td>602897a6-cdac-11ea-b31f-000d3a38a36f</td>\n      <td>Offline</td>\n      <td>Offline</td>\n      <td>Offline</td>\n      <td>2020-07-24 15:49:47</td>\n      <td>2020-07-24 15:49:47</td>\n      <td>NaT</td>\n      <td>2020-07-24 15:49:47</td>\n      <td>NaN</td>\n      <td>1.0</td>\n      <td>...</td>\n      <td>ERKEK</td>\n      <td>2020-07-24</td>\n      <td>A</td>\n      <td>312</td>\n      <td>140.49</td>\n      <td>0.0</td>\n      <td>0.0</td>\n      <td>(1.0, 0.0, 0.0, 0.0)</td>\n      <td>(1.0, 0.0)</td>\n      <td>(1.0, 0.0, 0.0, 0.0, 1.0, 0.0, 140.49, 0.0, 31...</td>\n    </tr>\n    <tr>\n      <th>3</th>\n      <td>388e4c4e-af86-11e9-a2fc-000d3a38a36f</td>\n      <td>Mobile</td>\n      <td>Online</td>\n      <td>Mobile</td>\n      <td>2018-12-31 07:22:07</td>\n      <td>2018-12-31 07:22:07</td>\n      <td>2018-12-31 07:22:07</td>\n      <td>NaT</td>\n      <td>1.0</td>\n      <td>NaN</td>\n      <td>...</td>\n      <td>None</td>\n      <td>2018-12-31</td>\n      <td>A</td>\n      <td>883</td>\n      <td>174.99</td>\n      <td>2.0</td>\n      <td>1.0</td>\n      <td>(0.0, 0.0, 1.0, 0.0)</td>\n      <td>(0.0, 1.0)</td>\n      <td>(0.0, 0.0, 1.0, 0.0, 0.0, 1.0, 0.0, 174.99, 88...</td>\n    </tr>\n    <tr>\n      <th>4</th>\n      <td>80664354-adf0-11eb-8f64-000d3a299ebf</td>\n      <td>Desktop</td>\n      <td>Online</td>\n      <td>Desktop</td>\n      <td>2021-05-05 21:07:02</td>\n      <td>2021-05-05 22:39:36</td>\n      <td>2021-05-05 22:39:36</td>\n      <td>NaT</td>\n      <td>2.0</td>\n      <td>NaN</td>\n      <td>...</td>\n      <td>None</td>\n      <td>2021-05-05</td>\n      <td>A</td>\n      <td>27</td>\n      <td>283.95</td>\n      <td>3.0</td>\n      <td>1.0</td>\n      <td>(0.0, 0.0, 0.0, 1.0)</td>\n      <td>(0.0, 1.0)</td>\n      <td>(0.0, 0.0, 0.0, 1.0, 0.0, 1.0, 0.0, 283.95, 27.0)</td>\n    </tr>\n  </tbody>\n</table>\n<p>5 rows × 24 columns</p>\n</div>"
     },
     "execution_count": 102,
     "metadata": {},
     "output_type": "execute_result"
    }
   ],
   "source": [
    "vectorized.limit(5).toPandas()"
   ],
   "metadata": {
    "collapsed": false
   }
  },
  {
   "cell_type": "markdown",
   "source": [
    "### CASTING A VARIABLE TO INTEGER\n"
   ],
   "metadata": {
    "collapsed": false
   }
  },
  {
   "cell_type": "code",
   "execution_count": 104,
   "outputs": [],
   "source": [
    "# Variable called : customer_value_total has been casted as A NEW INTEGER VARIABLE CALLED \"label\"\n",
    "vectorized= vectorized.withColumn(\"label\", vectorized[\"customer_value_total\"].cast(\"integer\") )"
   ],
   "metadata": {
    "collapsed": false
   }
  },
  {
   "cell_type": "code",
   "execution_count": 105,
   "outputs": [
    {
     "data": {
      "text/plain": "[('master_id', 'string'),\n ('order_channel', 'string'),\n ('platform_type', 'string'),\n ('last_order_channel', 'string'),\n ('first_order_date', 'timestamp'),\n ('last_order_date', 'timestamp'),\n ('last_order_date_online', 'timestamp'),\n ('last_order_date_offline', 'timestamp'),\n ('order_num_total_ever_online', 'double'),\n ('order_num_total_ever_offline', 'double'),\n ('customer_value_total_ever_offline', 'double'),\n ('customer_value_total_ever_online', 'double'),\n ('interested_in_categories_12', 'string'),\n ('online_product_group_amount_top_name_12', 'string'),\n ('offline_product_group_name_12', 'string'),\n ('last_order_date_new', 'string'),\n ('store_type', 'string'),\n ('recency', 'int'),\n ('customer_value_total', 'double'),\n ('orderindexed', 'double'),\n ('platformindexed', 'double'),\n ('orderencoded', 'vector'),\n ('platformencoded', 'vector'),\n ('features', 'vector'),\n ('label', 'int')]"
     },
     "execution_count": 105,
     "metadata": {},
     "output_type": "execute_result"
    }
   ],
   "source": [
    "vectorized.dtypes"
   ],
   "metadata": {
    "collapsed": false
   }
  },
  {
   "cell_type": "code",
   "execution_count": 106,
   "outputs": [
    {
     "data": {
      "text/plain": "                                            features  label\n0  (1.0, 0.0, 0.0, 0.0, 1.0, 0.0, 212.98, 0.0, 82...    212\n1  (1.0, 0.0, 0.0, 0.0, 0.0, 0.0, 199.98, 0.0, 54...    199\n2  (1.0, 0.0, 0.0, 0.0, 1.0, 0.0, 140.49, 0.0, 31...    140\n3  (0.0, 0.0, 1.0, 0.0, 0.0, 1.0, 0.0, 174.99, 88...    174\n4  (0.0, 0.0, 0.0, 1.0, 0.0, 1.0, 0.0, 283.95, 27.0)    283",
      "text/html": "<div>\n<style scoped>\n    .dataframe tbody tr th:only-of-type {\n        vertical-align: middle;\n    }\n\n    .dataframe tbody tr th {\n        vertical-align: top;\n    }\n\n    .dataframe thead th {\n        text-align: right;\n    }\n</style>\n<table border=\"1\" class=\"dataframe\">\n  <thead>\n    <tr style=\"text-align: right;\">\n      <th></th>\n      <th>features</th>\n      <th>label</th>\n    </tr>\n  </thead>\n  <tbody>\n    <tr>\n      <th>0</th>\n      <td>(1.0, 0.0, 0.0, 0.0, 1.0, 0.0, 212.98, 0.0, 82...</td>\n      <td>212</td>\n    </tr>\n    <tr>\n      <th>1</th>\n      <td>(1.0, 0.0, 0.0, 0.0, 0.0, 0.0, 199.98, 0.0, 54...</td>\n      <td>199</td>\n    </tr>\n    <tr>\n      <th>2</th>\n      <td>(1.0, 0.0, 0.0, 0.0, 1.0, 0.0, 140.49, 0.0, 31...</td>\n      <td>140</td>\n    </tr>\n    <tr>\n      <th>3</th>\n      <td>(0.0, 0.0, 1.0, 0.0, 0.0, 1.0, 0.0, 174.99, 88...</td>\n      <td>174</td>\n    </tr>\n    <tr>\n      <th>4</th>\n      <td>(0.0, 0.0, 0.0, 1.0, 0.0, 1.0, 0.0, 283.95, 27.0)</td>\n      <td>283</td>\n    </tr>\n  </tbody>\n</table>\n</div>"
     },
     "execution_count": 106,
     "metadata": {},
     "output_type": "execute_result"
    }
   ],
   "source": [
    "# PICK FINAL DF WITH FEAUTURES AND LABEL\n",
    "final_df= vectorized.select (\"features\",\"label\")\n",
    "final_df.limit (5).toPandas()"
   ],
   "metadata": {
    "collapsed": false
   }
  },
  {
   "cell_type": "code",
   "execution_count": 107,
   "outputs": [],
   "source": [
    "spark.stop()"
   ],
   "metadata": {
    "collapsed": false
   }
  },
  {
   "cell_type": "code",
   "execution_count": null,
   "outputs": [],
   "source": [],
   "metadata": {
    "collapsed": false
   }
  }
 ],
 "metadata": {
  "kernelspec": {
   "display_name": "Python 3",
   "language": "python",
   "name": "python3"
  },
  "language_info": {
   "codemirror_mode": {
    "name": "ipython",
    "version": 2
   },
   "file_extension": ".py",
   "mimetype": "text/x-python",
   "name": "python",
   "nbconvert_exporter": "python",
   "pygments_lexer": "ipython2",
   "version": "2.7.6"
  }
 },
 "nbformat": 4,
 "nbformat_minor": 0
}
