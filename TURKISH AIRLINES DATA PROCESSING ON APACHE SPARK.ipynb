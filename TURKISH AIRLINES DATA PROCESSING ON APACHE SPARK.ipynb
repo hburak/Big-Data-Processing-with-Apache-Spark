{
 "cells": [
  {
   "cell_type": "markdown",
   "metadata": {},
   "source": [
    "## TURKISH AIRLINES DATA PROCESSING ON APACHE SPARK"
   ]
  },
  {
   "cell_type": "markdown",
   "metadata": {},
   "source": [
    "### Load data into HDFS\n"
   ]
  },
  {
   "cell_type": "markdown",
   "metadata": {},
   "source": [
    "! hdfs dfs -put ~/datasets/thy_data.txt /user/train/datasets"
   ]
  },
  {
   "cell_type": "code",
   "execution_count": 1,
   "metadata": {},
   "outputs": [
    {
     "name": "stdout",
     "output_type": "stream",
     "text": [
      "Found 6 items\r\n",
      "-rw-r--r--   1 train supergroup       4556 2020-09-23 20:56 /user/train/datasets/Advertising.csv\r\n",
      "drwxr-xr-x   - train supergroup          0 2020-11-19 21:02 /user/train/datasets/churn-telecom\r\n",
      "-rw-r--r--   1 train supergroup    2609524 2022-09-09 20:52 /user/train/datasets/dirty_store_transactions.csv\r\n",
      "-rw-r--r--   1 train supergroup    5099520 2022-08-16 00:25 /user/train/datasets/flo100k_data.csv\r\n",
      "drwxr-xr-x   - train supergroup          0 2020-11-21 11:16 /user/train/datasets/retail_db\r\n",
      "-rw-r--r--   1 train supergroup   32106333 2022-09-09 22:43 /user/train/datasets/thy_data.txt\r\n"
     ]
    }
   ],
   "source": [
    "! hdfs dfs -ls /user/train/datasets"
   ]
  },
  {
   "cell_type": "code",
   "execution_count": 1,
   "metadata": {},
   "outputs": [
    {
     "name": "stdout",
     "output_type": "stream",
     "text": [
      "Requirement already satisfied: findspark in c:\\users\\huseyinburakbolat\\anaconda3\\lib\\site-packages (1.4.2)\n"
     ]
    }
   ],
   "source": [
    "# IMPORT LIBRARIES\n",
    "!pip install findspark\n",
    "\n",
    "import findspark\n",
    "findspark.init()\n",
    "from pyspark.sql import SparkSession\n",
    "from pyspark.sql.types import *\n",
    "from pyspark.sql import functions as F\n",
    "\n",
    "import panda"
   ]
  },
  {
   "cell_type": "code",
   "execution_count": 2,
   "metadata": {},
   "outputs": [],
   "source": [
    "# CREATE A SPARK SESSION\n",
    "spark = (\n",
    "    SparkSession.builder\n",
    "    .appName(\"Turkish Airlines Analysis\")\n",
    "    .master(\"yarn\")\n",
    "    .enableHiveSupport()\n",
    "    .getOrCreate())"
   ]
  },
  {
   "cell_type": "code",
   "execution_count": 7,
   "metadata": {},
   "outputs": [],
   "source": [
    "df = spark.read.format(\"csv\") \\\n",
    ".option(\"header\", True) \\\n",
    ".option(\"inferSchema\", True) \\\n",
    ".option(\"sep\", \",\") \\\n",
    ".load(\"D:/thy_data.txt\")"
   ]
  },
  {
   "cell_type": "code",
   "execution_count": 9,
   "metadata": {},
   "outputs": [
    {
     "data": {
      "text/plain": "   SEASON ORIGIN DESTINATION  PSGR_COUNT\n0  SUMMER    227         YYZ           6\n1  SUMMER    224         222           3\n2  SUMMER    226         JF8           1\n3  SUMMER    227         3RG          11\n4  SUMMER    227         6RV         245",
      "text/html": "<div>\n<style scoped>\n    .dataframe tbody tr th:only-of-type {\n        vertical-align: middle;\n    }\n\n    .dataframe tbody tr th {\n        vertical-align: top;\n    }\n\n    .dataframe thead th {\n        text-align: right;\n    }\n</style>\n<table border=\"1\" class=\"dataframe\">\n  <thead>\n    <tr style=\"text-align: right;\">\n      <th></th>\n      <th>SEASON</th>\n      <th>ORIGIN</th>\n      <th>DESTINATION</th>\n      <th>PSGR_COUNT</th>\n    </tr>\n  </thead>\n  <tbody>\n    <tr>\n      <th>0</th>\n      <td>SUMMER</td>\n      <td>227</td>\n      <td>YYZ</td>\n      <td>6</td>\n    </tr>\n    <tr>\n      <th>1</th>\n      <td>SUMMER</td>\n      <td>224</td>\n      <td>222</td>\n      <td>3</td>\n    </tr>\n    <tr>\n      <th>2</th>\n      <td>SUMMER</td>\n      <td>226</td>\n      <td>JF8</td>\n      <td>1</td>\n    </tr>\n    <tr>\n      <th>3</th>\n      <td>SUMMER</td>\n      <td>227</td>\n      <td>3RG</td>\n      <td>11</td>\n    </tr>\n    <tr>\n      <th>4</th>\n      <td>SUMMER</td>\n      <td>227</td>\n      <td>6RV</td>\n      <td>245</td>\n    </tr>\n  </tbody>\n</table>\n</div>"
     },
     "execution_count": 9,
     "metadata": {},
     "output_type": "execute_result"
    }
   ],
   "source": [
    "df.limit(5).toPandas()"
   ]
  },
  {
   "cell_type": "code",
   "execution_count": 7,
   "metadata": {},
   "outputs": [
    {
     "data": {
      "text/plain": [
       "1719202"
      ]
     },
     "execution_count": 7,
     "metadata": {},
     "output_type": "execute_result"
    }
   ],
   "source": [
    "# COUNT ALL ROWS\n",
    "df.count()"
   ]
  },
  {
   "cell_type": "code",
   "execution_count": 8,
   "metadata": {},
   "outputs": [
    {
     "data": {
      "text/plain": [
       "4"
      ]
     },
     "execution_count": 8,
     "metadata": {},
     "output_type": "execute_result"
    }
   ],
   "source": [
    "# ALL COLUMNS LENGTH\n",
    "len(df.columns)"
   ]
  },
  {
   "cell_type": "code",
   "execution_count": 9,
   "metadata": {},
   "outputs": [
    {
     "name": "stdout",
     "output_type": "stream",
     "text": [
      "root\n",
      " |-- SEASON: string (nullable = true)\n",
      " |-- ORIGIN: string (nullable = true)\n",
      " |-- DESTINATION: string (nullable = true)\n",
      " |-- PSGR_COUNT: integer (nullable = true)\n",
      "\n"
     ]
    }
   ],
   "source": [
    "df.printSchema()"
   ]
  },
  {
   "cell_type": "markdown",
   "source": [
    "### UNIQUE VALUES"
   ],
   "metadata": {
    "collapsed": false
   }
  },
  {
   "cell_type": "code",
   "execution_count": 10,
   "metadata": {},
   "outputs": [
    {
     "data": {
      "text/plain": [
       "4210"
      ]
     },
     "execution_count": 10,
     "metadata": {},
     "output_type": "execute_result"
    }
   ],
   "source": [
    "# COUNT UNIQUE VALUES OF ORIGIN\n",
    "df.select(\"ORIGIN\").distinct().count()"
   ]
  },
  {
   "cell_type": "markdown",
   "metadata": {},
   "source": [
    "###  ANALYZE DESCRIPTIVE STATISTICS GROUPED BY SEASONS"
   ]
  },
  {
   "cell_type": "code",
   "execution_count": 10,
   "metadata": {},
   "outputs": [
    {
     "name": "stdout",
     "output_type": "stream",
     "text": [
      "+------+----------------+-----------------+----------------+\n",
      "|SEASON|TOTAL_PSGR_COUNT|   AVG_PSGR_COUNT|COUNT_OF_FLIGHTS|\n",
      "+------+----------------+-----------------+----------------+\n",
      "|SUMMER|       521002675|567.8806552066541|          917451|\n",
      "|WINTER|       336882094|420.1829420855103|          801751|\n",
      "+------+----------------+-----------------+----------------+\n",
      "\n"
     ]
    }
   ],
   "source": [
    "# ANALYZE DESCRIPTIVE STATISTICS GROUPED BY SEASONS\n",
    "from pyspark.sql.functions import sum, col, desc, mean, count\n",
    "df.groupBy(\"SEASON\") \\\n",
    "  .agg(sum(\"PSGR_COUNT\").alias('TOTAL_PSGR_COUNT'), \\\n",
    "       mean(\"PSGR_COUNT\").alias(\"AVG_PSGR_COUNT\"), \\\n",
    "       count(\"PSGR_COUNT\").alias(\"COUNT_OF_FLIGHTS\")) \\\n",
    "  .sort(desc(\"TOTAL_PSGR_COUNT\")).show()"
   ]
  },
  {
   "cell_type": "markdown",
   "metadata": {},
   "source": [
    "### FILTER TOP 5 DESTINATIONS IN SUMMER SEASON"
   ]
  },
  {
   "cell_type": "code",
   "execution_count": 11,
   "metadata": {},
   "outputs": [
    {
     "data": {
      "text/plain": "   SEASON ORIGIN DESTINATION  PSGR_COUNT\n0  SUMMER    6PE         H8G      980759\n1  SUMMER    H8G         6PE      978968\n2  SUMMER    DEL         4OM      908383\n3  SUMMER    MEL         3YD      907382\n4  SUMMER    3YD         MEL      904641",
      "text/html": "<div>\n<style scoped>\n    .dataframe tbody tr th:only-of-type {\n        vertical-align: middle;\n    }\n\n    .dataframe tbody tr th {\n        vertical-align: top;\n    }\n\n    .dataframe thead th {\n        text-align: right;\n    }\n</style>\n<table border=\"1\" class=\"dataframe\">\n  <thead>\n    <tr style=\"text-align: right;\">\n      <th></th>\n      <th>SEASON</th>\n      <th>ORIGIN</th>\n      <th>DESTINATION</th>\n      <th>PSGR_COUNT</th>\n    </tr>\n  </thead>\n  <tbody>\n    <tr>\n      <th>0</th>\n      <td>SUMMER</td>\n      <td>6PE</td>\n      <td>H8G</td>\n      <td>980759</td>\n    </tr>\n    <tr>\n      <th>1</th>\n      <td>SUMMER</td>\n      <td>H8G</td>\n      <td>6PE</td>\n      <td>978968</td>\n    </tr>\n    <tr>\n      <th>2</th>\n      <td>SUMMER</td>\n      <td>DEL</td>\n      <td>4OM</td>\n      <td>908383</td>\n    </tr>\n    <tr>\n      <th>3</th>\n      <td>SUMMER</td>\n      <td>MEL</td>\n      <td>3YD</td>\n      <td>907382</td>\n    </tr>\n    <tr>\n      <th>4</th>\n      <td>SUMMER</td>\n      <td>3YD</td>\n      <td>MEL</td>\n      <td>904641</td>\n    </tr>\n  </tbody>\n</table>\n</div>"
     },
     "execution_count": 11,
     "metadata": {},
     "output_type": "execute_result"
    }
   ],
   "source": [
    "df.filter(\"SEASON IN ('SUMMER')\").orderBy(F.desc(\"PSGR_COUNT\")).limit(5).toPandas()"
   ]
  },
  {
   "cell_type": "markdown",
   "metadata": {},
   "source": [
    "### LIST PASSENGER COUNTS GROUPED BY SEASON AND ORIGIN ON DESCENDING ORDER"
   ]
  },
  {
   "cell_type": "code",
   "execution_count": 14,
   "metadata": {},
   "outputs": [],
   "source": [
    "ordered_df_thy = df.groupBy(\"SEASON\",\"ORIGIN\").agg(F.sum(\"PSGR_COUNT\").alias(\"PSGR_COUNT\")) \\\n",
    ".orderBy(F.desc(\"PSGR_COUNT\"))"
   ]
  },
  {
   "cell_type": "code",
   "execution_count": 15,
   "metadata": {},
   "outputs": [
    {
     "data": {
      "text/html": [
       "<div>\n",
       "<style scoped>\n",
       "    .dataframe tbody tr th:only-of-type {\n",
       "        vertical-align: middle;\n",
       "    }\n",
       "\n",
       "    .dataframe tbody tr th {\n",
       "        vertical-align: top;\n",
       "    }\n",
       "\n",
       "    .dataframe thead th {\n",
       "        text-align: right;\n",
       "    }\n",
       "</style>\n",
       "<table border=\"1\" class=\"dataframe\">\n",
       "  <thead>\n",
       "    <tr style=\"text-align: right;\">\n",
       "      <th></th>\n",
       "      <th>SEASON</th>\n",
       "      <th>ORIGIN</th>\n",
       "      <th>PSGR_COUNT</th>\n",
       "    </tr>\n",
       "  </thead>\n",
       "  <tbody>\n",
       "    <tr>\n",
       "      <th>0</th>\n",
       "      <td>SUMMER</td>\n",
       "      <td>IC7</td>\n",
       "      <td>11177363</td>\n",
       "    </tr>\n",
       "    <tr>\n",
       "      <th>1</th>\n",
       "      <td>SUMMER</td>\n",
       "      <td>LHR</td>\n",
       "      <td>9696224</td>\n",
       "    </tr>\n",
       "    <tr>\n",
       "      <th>2</th>\n",
       "      <td>SUMMER</td>\n",
       "      <td>H8G</td>\n",
       "      <td>8432456</td>\n",
       "    </tr>\n",
       "    <tr>\n",
       "      <th>3</th>\n",
       "      <td>WINTER</td>\n",
       "      <td>IC7</td>\n",
       "      <td>7803139</td>\n",
       "    </tr>\n",
       "    <tr>\n",
       "      <th>4</th>\n",
       "      <td>SUMMER</td>\n",
       "      <td>DEL</td>\n",
       "      <td>7705173</td>\n",
       "    </tr>\n",
       "  </tbody>\n",
       "</table>\n",
       "</div>"
      ],
      "text/plain": [
       "   SEASON ORIGIN  PSGR_COUNT\n",
       "0  SUMMER    IC7    11177363\n",
       "1  SUMMER    LHR     9696224\n",
       "2  SUMMER    H8G     8432456\n",
       "3  WINTER    IC7     7803139\n",
       "4  SUMMER    DEL     7705173"
      ]
     },
     "execution_count": 15,
     "metadata": {},
     "output_type": "execute_result"
    }
   ],
   "source": [
    "ordered_df_thy.limit(5).toPandas()"
   ]
  },
  {
   "cell_type": "markdown",
   "metadata": {},
   "source": [
    "###  WRITE ordered_df_thy TABLE TO HIVE IN ORC FORMAT"
   ]
  },
  {
   "cell_type": "code",
   "execution_count": 16,
   "metadata": {},
   "outputs": [],
   "source": [
    "ordered_df_thy.write.format(\"orc\").mode(\"overwrite\").saveAsTable(\"test1.thy_market_grpby_season_org\")"
   ]
  },
  {
   "cell_type": "markdown",
   "metadata": {},
   "source": [
    "### READ THE TABLE FROM HIVE"
   ]
  },
  {
   "cell_type": "code",
   "execution_count": 17,
   "metadata": {},
   "outputs": [
    {
     "data": {
      "text/html": [
       "<div>\n",
       "<style scoped>\n",
       "    .dataframe tbody tr th:only-of-type {\n",
       "        vertical-align: middle;\n",
       "    }\n",
       "\n",
       "    .dataframe tbody tr th {\n",
       "        vertical-align: top;\n",
       "    }\n",
       "\n",
       "    .dataframe thead th {\n",
       "        text-align: right;\n",
       "    }\n",
       "</style>\n",
       "<table border=\"1\" class=\"dataframe\">\n",
       "  <thead>\n",
       "    <tr style=\"text-align: right;\">\n",
       "      <th></th>\n",
       "      <th>SEASON</th>\n",
       "      <th>ORIGIN</th>\n",
       "      <th>PSGR_COUNT</th>\n",
       "    </tr>\n",
       "  </thead>\n",
       "  <tbody>\n",
       "    <tr>\n",
       "      <th>0</th>\n",
       "      <td>WINTER</td>\n",
       "      <td>3VI</td>\n",
       "      <td>1</td>\n",
       "    </tr>\n",
       "    <tr>\n",
       "      <th>1</th>\n",
       "      <td>WINTER</td>\n",
       "      <td>4YD</td>\n",
       "      <td>1</td>\n",
       "    </tr>\n",
       "    <tr>\n",
       "      <th>2</th>\n",
       "      <td>WINTER</td>\n",
       "      <td>34R</td>\n",
       "      <td>1</td>\n",
       "    </tr>\n",
       "    <tr>\n",
       "      <th>3</th>\n",
       "      <td>SUMMER</td>\n",
       "      <td>47W</td>\n",
       "      <td>1</td>\n",
       "    </tr>\n",
       "    <tr>\n",
       "      <th>4</th>\n",
       "      <td>SUMMER</td>\n",
       "      <td>GO3</td>\n",
       "      <td>1</td>\n",
       "    </tr>\n",
       "  </tbody>\n",
       "</table>\n",
       "</div>"
      ],
      "text/plain": [
       "   SEASON ORIGIN  PSGR_COUNT\n",
       "0  WINTER    3VI           1\n",
       "1  WINTER    4YD           1\n",
       "2  WINTER    34R           1\n",
       "3  SUMMER    47W           1\n",
       "4  SUMMER    GO3           1"
      ]
     },
     "execution_count": 17,
     "metadata": {},
     "output_type": "execute_result"
    }
   ],
   "source": [
    "spark.sql(\"select * from test1.thy_market_grpby_season_org;\").limit(5).toPandas()"
   ]
  },
  {
   "cell_type": "markdown",
   "metadata": {},
   "source": [
    "### WRITE THE TABLE ABOVE TO POSTGRESQL"
   ]
  },
  {
   "cell_type": "code",
   "execution_count": 19,
   "metadata": {},
   "outputs": [],
   "source": [
    "jdbcUrl = \"jdbc:postgresql://localhost/traindb?user=train&password=****\""
   ]
  },
  {
   "cell_type": "code",
   "execution_count": 20,
   "metadata": {},
   "outputs": [],
   "source": [
    "ordered_df_thy.write \\\n",
    ".jdbc(url=jdbcUrl,\n",
    "              table=\"ordered_df_thy\", \n",
    "              mode=\"overwrite\", \n",
    "              properties={\"driver\": 'org.postgresql.Driver'})"
   ]
  },
  {
   "cell_type": "code",
   "execution_count": 12,
   "outputs": [],
   "source": [
    "spark.stop()"
   ],
   "metadata": {
    "collapsed": false
   }
  },
  {
   "cell_type": "code",
   "execution_count": null,
   "outputs": [],
   "source": [],
   "metadata": {
    "collapsed": false
   }
  }
 ],
 "metadata": {
  "kernelspec": {
   "name": "python3",
   "language": "python",
   "display_name": "Python 3 (ipykernel)"
  },
  "language_info": {
   "codemirror_mode": {
    "name": "ipython",
    "version": 3
   },
   "file_extension": ".py",
   "mimetype": "text/x-python",
   "name": "python",
   "nbconvert_exporter": "python",
   "pygments_lexer": "ipython3",
   "version": "3.6.8"
  }
 },
 "nbformat": 4,
 "nbformat_minor": 4
}
